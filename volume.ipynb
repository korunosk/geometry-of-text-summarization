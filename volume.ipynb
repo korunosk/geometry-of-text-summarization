{
 "cells": [
  {
   "cell_type": "code",
   "execution_count": 1,
   "metadata": {},
   "outputs": [],
   "source": [
    "import numpy as np\n",
    "import pandas as pd\n",
    "from nltk.tokenize import sent_tokenize, word_tokenize\n",
    "from sklearn.feature_extraction.text import CountVectorizer\n",
    "from sklearn.decomposition import TruncatedSVD\n",
    "from gensim.parsing.preprocessing import *"
   ]
  },
  {
   "cell_type": "code",
   "execution_count": 2,
   "metadata": {},
   "outputs": [],
   "source": [
    "df = pd.read_csv('data/Full-Economic-News-DFE-839861.csv', encoding='ISO-8859-1')"
   ]
  },
  {
   "cell_type": "code",
   "execution_count": 3,
   "metadata": {},
   "outputs": [],
   "source": [
    "def remove_tag(s):\n",
    "    return s.replace('</br>', ' ')\n",
    "def preprocess(s):\n",
    "    return list(map(lambda x: ' '.join(preprocess_string(x)), sent_tokenize(remove_tag(s))))\n",
    "\n",
    "corpus = df.text.apply(preprocess).explode().reset_index(drop=True)"
   ]
  },
  {
   "cell_type": "code",
   "execution_count": 4,
   "metadata": {},
   "outputs": [
    {
     "data": {
      "text/plain": [
       "0        new york yield certif deposit offer major bank...\n",
       "1        small denomin consum cd sold directli bank ave...\n",
       "2        month consum deposit averag yield sank week ac...\n",
       "3        bank banxquot survei citibank new york corest ...\n",
       "4        declin somewhat smaller year consum cd eas ban...\n",
       "                               ...                        \n",
       "80262    compani said call dai shutdown schedul plant week\n",
       "80263    new feed onûó strong feel broker investor pri...\n",
       "80264                                                point\n",
       "80265    session dow climb level technician consid big ...\n",
       "80266    despit strong tone ralli earli sessionûó dow ...\n",
       "Name: text, Length: 80267, dtype: object"
      ]
     },
     "execution_count": 4,
     "metadata": {},
     "output_type": "execute_result"
    }
   ],
   "source": [
    "corpus"
   ]
  },
  {
   "cell_type": "code",
   "execution_count": 5,
   "metadata": {
    "colab": {
     "base_uri": "https://localhost:8080/",
     "height": 34
    },
    "colab_type": "code",
    "id": "5BThiMSWN2Ln",
    "outputId": "e8ca5f8f-0bde-4fc7-a68a-c216a128587d"
   },
   "outputs": [
    {
     "data": {
      "text/plain": [
       "(80267, 474198)"
      ]
     },
     "execution_count": 5,
     "metadata": {},
     "output_type": "execute_result"
    }
   ],
   "source": [
    "vectorizer = CountVectorizer(analyzer='word', ngram_range=(2, 2))\n",
    "X = vectorizer.fit_transform(corpus)\n",
    "X.shape"
   ]
  },
  {
   "cell_type": "code",
   "execution_count": 6,
   "metadata": {},
   "outputs": [
    {
     "data": {
      "text/plain": [
       "TruncatedSVD(algorithm='randomized', n_components=100, n_iter=5,\n",
       "             random_state=42, tol=0.0)"
      ]
     },
     "execution_count": 6,
     "metadata": {},
     "output_type": "execute_result"
    }
   ],
   "source": [
    "svd = TruncatedSVD(n_components=100, random_state=42)\n",
    "svd.fit(X)"
   ]
  },
  {
   "cell_type": "code",
   "execution_count": 7,
   "metadata": {},
   "outputs": [],
   "source": [
    "sample = df.text[1]\n",
    "s = sent_tokenize(remove_tag(sample))\n",
    "U = svd.transform(vectorizer.transform(preprocess(sample)))\n",
    "N = len(U)"
   ]
  },
  {
   "cell_type": "code",
   "execution_count": 8,
   "metadata": {},
   "outputs": [],
   "source": [
    "word_counter = np.vectorize(lambda x: len(word_tokenize(x))) # TODO: word_tokenize keeps punctuation as separate words, fix it\n",
    "wc = word_counter(s)"
   ]
  },
  {
   "cell_type": "code",
   "execution_count": 9,
   "metadata": {
    "colab": {},
    "colab_type": "code",
    "id": "Tte0J9A1Ov36"
   },
   "outputs": [
    {
     "data": {
      "text/plain": [
       "([0, 3],\n",
       " {\"The State Children's Health Insurance Program was created in 1997 to help children whose families couldn't afford insurance but didn't qualify for Medicaid, and administration officials tell the New York Times that the changes are aimed at returning the program to its low- income focus and assuring it didn't become a replacement for private insurance.\",\n",
       "  \"The Wall Street Journal Online  The Morning Brief, a look at the day's biggest news, is emailed to subscribers by 7 a.m. every business day.\"})"
      ]
     },
     "execution_count": 9,
     "metadata": {},
     "output_type": "execute_result"
    }
   ],
   "source": [
    "def mask(N, idx):\n",
    "    mask = np.ones(N, dtype=bool)\n",
    "    mask[idx] = False\n",
    "    return mask\n",
    "\n",
    "R = U\n",
    "S, B = set(), np.ndarray(shape=(0,U.shape[1]))\n",
    "idx = []\n",
    "\n",
    "c = R.sum(axis=0) / N\n",
    "\n",
    "p = np.argmax(np.linalg.norm(R - c, axis=1))\n",
    "S.add(s[p])\n",
    "idx.append(p)\n",
    "\n",
    "q = np.argmax(np.linalg.norm(R - R[p], axis=1))\n",
    "S.add(s[q])\n",
    "idx.append(q)\n",
    "\n",
    "b_0 = R[q] / np.linalg.norm(R[q])\n",
    "B = np.append(B, b_0.reshape(1,-1), axis=0)\n",
    "total_length = wc[p] + wc[q]\n",
    "\n",
    "L = 100\n",
    "dist = lambda u, B: np.linalg.norm(u - (u @ B.T) @ B)\n",
    "for i in range(N - 2):\n",
    "    r = np.argmax(np.apply_along_axis(dist, 1, R[mask(N, idx)], B))\n",
    "    if total_length + wc[r] > L:\n",
    "        break\n",
    "    if s[r] not in S:\n",
    "        S.add(s[r])\n",
    "        idx.append(r)\n",
    "\n",
    "        b_r = R[r] / np.linalg.norm(R[r])\n",
    "        B = np.append(B, b_r.reshape(1,-1), axis=0)\n",
    "        total_length += wc[r]\n",
    "\n",
    "idx, S"
   ]
  }
 ],
 "metadata": {
  "colab": {
   "collapsed_sections": [],
   "name": "volume",
   "provenance": []
  },
  "kernelspec": {
   "display_name": "Python 3",
   "language": "python",
   "name": "python3"
  },
  "language_info": {
   "codemirror_mode": {
    "name": "ipython",
    "version": 3
   },
   "file_extension": ".py",
   "mimetype": "text/x-python",
   "name": "python",
   "nbconvert_exporter": "python",
   "pygments_lexer": "ipython3",
   "version": "3.7.0"
  }
 },
 "nbformat": 4,
 "nbformat_minor": 1
}
