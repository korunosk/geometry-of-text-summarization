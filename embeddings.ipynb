{
  "nbformat": 4,
  "nbformat_minor": 0,
  "metadata": {
    "colab": {
      "name": "embeddings.ipynb",
      "provenance": [],
      "collapsed_sections": [],
      "toc_visible": true,
      "machine_shape": "hm"
    },
    "kernelspec": {
      "name": "python3",
      "display_name": "Python 3"
    },
    "accelerator": "GPU"
  },
  "cells": [
    {
      "cell_type": "code",
      "metadata": {
        "id": "l1GeG7izytWc",
        "colab_type": "code",
        "outputId": "ae0945d7-21d8-424e-b7f9-78be34cdaef1",
        "colab": {
          "base_uri": "https://localhost:8080/",
          "height": 360
        }
      },
      "source": [
        "!pip install bert-serving-client\n",
        "!pip install -U bert-serving-server[http]"
      ],
      "execution_count": 0,
      "outputs": [
        {
          "output_type": "stream",
          "text": [
            "Requirement already satisfied: bert-serving-client in /usr/local/lib/python3.6/dist-packages (1.10.0)\n",
            "Requirement already satisfied: pyzmq>=17.1.0 in /usr/local/lib/python3.6/dist-packages (from bert-serving-client) (19.0.0)\n",
            "Requirement already satisfied: numpy in /usr/local/lib/python3.6/dist-packages (from bert-serving-client) (1.18.2)\n",
            "Requirement already up-to-date: bert-serving-server[http] in /usr/local/lib/python3.6/dist-packages (1.10.0)\n",
            "Requirement already satisfied, skipping upgrade: numpy in /usr/local/lib/python3.6/dist-packages (from bert-serving-server[http]) (1.18.2)\n",
            "Requirement already satisfied, skipping upgrade: termcolor>=1.1 in /usr/local/lib/python3.6/dist-packages (from bert-serving-server[http]) (1.1.0)\n",
            "Requirement already satisfied, skipping upgrade: GPUtil>=1.3.0 in /usr/local/lib/python3.6/dist-packages (from bert-serving-server[http]) (1.4.0)\n",
            "Requirement already satisfied, skipping upgrade: six in /usr/local/lib/python3.6/dist-packages (from bert-serving-server[http]) (1.12.0)\n",
            "Requirement already satisfied, skipping upgrade: pyzmq>=17.1.0 in /usr/local/lib/python3.6/dist-packages (from bert-serving-server[http]) (19.0.0)\n",
            "Requirement already satisfied, skipping upgrade: flask-cors; extra == \"http\" in /usr/local/lib/python3.6/dist-packages (from bert-serving-server[http]) (3.0.8)\n",
            "Requirement already satisfied, skipping upgrade: flask; extra == \"http\" in /usr/local/lib/python3.6/dist-packages (from bert-serving-server[http]) (1.1.2)\n",
            "Requirement already satisfied, skipping upgrade: bert-serving-client; extra == \"http\" in /usr/local/lib/python3.6/dist-packages (from bert-serving-server[http]) (1.10.0)\n",
            "Requirement already satisfied, skipping upgrade: flask-json; extra == \"http\" in /usr/local/lib/python3.6/dist-packages (from bert-serving-server[http]) (0.3.4)\n",
            "Requirement already satisfied, skipping upgrade: flask-compress; extra == \"http\" in /usr/local/lib/python3.6/dist-packages (from bert-serving-server[http]) (1.4.0)\n",
            "Requirement already satisfied, skipping upgrade: itsdangerous>=0.24 in /usr/local/lib/python3.6/dist-packages (from flask; extra == \"http\"->bert-serving-server[http]) (1.1.0)\n",
            "Requirement already satisfied, skipping upgrade: Jinja2>=2.10.1 in /usr/local/lib/python3.6/dist-packages (from flask; extra == \"http\"->bert-serving-server[http]) (2.11.2)\n",
            "Requirement already satisfied, skipping upgrade: Werkzeug>=0.15 in /usr/local/lib/python3.6/dist-packages (from flask; extra == \"http\"->bert-serving-server[http]) (1.0.1)\n",
            "Requirement already satisfied, skipping upgrade: click>=5.1 in /usr/local/lib/python3.6/dist-packages (from flask; extra == \"http\"->bert-serving-server[http]) (7.1.1)\n",
            "Requirement already satisfied, skipping upgrade: MarkupSafe>=0.23 in /usr/local/lib/python3.6/dist-packages (from Jinja2>=2.10.1->flask; extra == \"http\"->bert-serving-server[http]) (1.1.1)\n"
          ],
          "name": "stdout"
        }
      ]
    },
    {
      "cell_type": "code",
      "metadata": {
        "id": "Ccsfk_3hy082",
        "colab_type": "code",
        "outputId": "78051ec2-e63f-4af0-e374-d20346082c89",
        "colab": {
          "base_uri": "https://localhost:8080/",
          "height": 374
        }
      },
      "source": [
        "!wget https://storage.googleapis.com/bert_models/2020_02_20/uncased_L-4_H-256_A-4.zip\n",
        "!mkdir models\n",
        "!unzip uncased_L-4_H-256_A-4.zip -d models"
      ],
      "execution_count": 0,
      "outputs": [
        {
          "output_type": "stream",
          "text": [
            "--2020-04-21 16:46:09--  https://storage.googleapis.com/bert_models/2020_02_20/uncased_L-4_H-256_A-4.zip\n",
            "Resolving storage.googleapis.com (storage.googleapis.com)... 172.217.203.128, 2607:f8b0:400c:c07::80\n",
            "Connecting to storage.googleapis.com (storage.googleapis.com)|172.217.203.128|:443... connected.\n",
            "HTTP request sent, awaiting response... 200 OK\n",
            "Length: 41854126 (40M) [application/zip]\n",
            "Saving to: ‘uncased_L-4_H-256_A-4.zip.1’\n",
            "\n",
            "\r          uncased_L   0%[                    ]       0  --.-KB/s               \r         uncased_L-  46%[========>           ]  18.71M  93.5MB/s               \runcased_L-4_H-256_A 100%[===================>]  39.92M   147MB/s    in 0.3s    \n",
            "\n",
            "2020-04-21 16:46:09 (147 MB/s) - ‘uncased_L-4_H-256_A-4.zip.1’ saved [41854126/41854126]\n",
            "\n",
            "mkdir: cannot create directory ‘models’: File exists\n",
            "Archive:  uncased_L-4_H-256_A-4.zip\n",
            "replace models/bert_model.ckpt.data-00000-of-00001? [y]es, [n]o, [A]ll, [N]one, [r]ename: y\n",
            "  inflating: models/bert_model.ckpt.data-00000-of-00001  \n",
            "replace models/bert_config.json? [y]es, [n]o, [A]ll, [N]one, [r]ename: y\n",
            "  inflating: models/bert_config.json  \n",
            "replace models/vocab.txt? [y]es, [n]o, [A]ll, [N]one, [r]ename: y\n",
            "  inflating: models/vocab.txt        \n",
            "replace models/bert_model.ckpt.index? [y]es, [n]o, [A]ll, [N]one, [r]ename: y\n",
            "  inflating: models/bert_model.ckpt.index  \n"
          ],
          "name": "stdout"
        }
      ]
    },
    {
      "cell_type": "code",
      "metadata": {
        "id": "8HzQksdbCUkm",
        "colab_type": "code",
        "colab": {}
      },
      "source": [
        "# # Sentence encoding\n",
        "# !nohup bert-serving-start -model_dir models/uncased_L-4_H-256_A-4/ -num_worker=8 -max_seq_len=NONE -max_batch_size=64 > out.file 2>&1 &"
      ],
      "execution_count": 0,
      "outputs": []
    },
    {
      "cell_type": "code",
      "metadata": {
        "id": "ciQ-W--HCHDK",
        "colab_type": "code",
        "colab": {}
      },
      "source": [
        "# Word encoding\n",
        "!nohup bert-serving-start -model_dir models/uncased_L-4_H-256_A-4/ -num_worker=8 -max_seq_len=NONE -max_batch_size=64 -pooling_strategy=NONE -show_tokens_to_client > out.file 2>&1 &"
      ],
      "execution_count": 0,
      "outputs": []
    },
    {
      "cell_type": "code",
      "metadata": {
        "id": "fy_K-0Ap0pdo",
        "colab_type": "code",
        "colab": {}
      },
      "source": [
        "import numpy as np\n",
        "from itertools import chain\n",
        "\n",
        "from bert_serving.client import BertClient\n",
        "\n",
        "from config import *"
      ],
      "execution_count": 0,
      "outputs": []
    },
    {
      "cell_type": "code",
      "metadata": {
        "id": "QqStjV1BoVAo",
        "colab_type": "code",
        "outputId": "a8f2dc17-827d-4961-c421-7f3458cd53a4",
        "colab": {
          "base_uri": "https://localhost:8080/",
          "height": 51
        }
      },
      "source": [
        "import nltk\n",
        "from nltk.corpus import stopwords \n",
        "nltk.download('stopwords')\n",
        "stop_words = set(stopwords.words('english'))\n",
        "\n",
        "import string\n",
        "punctuation = set(string.punctuation)"
      ],
      "execution_count": 0,
      "outputs": [
        {
          "output_type": "stream",
          "text": [
            "[nltk_data] Downloading package stopwords to /root/nltk_data...\n",
            "[nltk_data]   Package stopwords is already up-to-date!\n"
          ],
          "name": "stdout"
        }
      ]
    },
    {
      "cell_type": "code",
      "metadata": {
        "id": "hBIp6K_XmwGy",
        "colab_type": "code",
        "outputId": "dabc5346-2fd4-4787-a06b-15118c73a94c",
        "colab": {
          "base_uri": "https://localhost:8080/",
          "height": 34
        }
      },
      "source": [
        "!pip install orjson"
      ],
      "execution_count": 0,
      "outputs": [
        {
          "output_type": "stream",
          "text": [
            "Requirement already satisfied: orjson in /usr/local/lib/python3.6/dist-packages (2.6.5)\n"
          ],
          "name": "stdout"
        }
      ]
    },
    {
      "cell_type": "code",
      "metadata": {
        "id": "NHs6dY9m1fjn",
        "colab_type": "code",
        "colab": {}
      },
      "source": [
        "from helpers import *\n",
        "\n",
        "def encode_words(docs):\n",
        "  def extract(embeddings, tokens):\n",
        "    valid_embs = []\n",
        "    for embs, toks in zip(embeddings, tokens):\n",
        "      for i in range(1, len(toks)-1):\n",
        "        if toks[i] in stop_words or toks[i] in punctuation:\n",
        "          continue\n",
        "        valid_embs.append(embs[i])\n",
        "    return valid_embs\n",
        "  n = np.cumsum([0] + list(map(len,docs)))\n",
        "  embeddings, tokens = bc.encode(list(chain(*docs)), show_tokens=True)\n",
        "  return [extract(embeddings[i:j], tokens[i:j]) for i,j in zip(n[:-1],n[1:])]\n",
        "\n",
        "def encode_sentences(docs):\n",
        "    n = np.cumsum([0] + list(map(len,docs)))\n",
        "    embs = bc.encode(list(chain(*docs)))\n",
        "    return [embs[i:j] for i,j in zip(n[:-1],n[1:])]"
      ],
      "execution_count": 0,
      "outputs": []
    },
    {
      "cell_type": "code",
      "metadata": {
        "id": "e_fKGRW81idC",
        "colab_type": "code",
        "outputId": "4ec31d8d-3e1f-4e1a-aaa7-e5ec95b7ff84",
        "colab": {
          "base_uri": "https://localhost:8080/",
          "height": 324
        }
      },
      "source": [
        "bc = BertClient(output_fmt='list')"
      ],
      "execution_count": 0,
      "outputs": [
        {
          "output_type": "error",
          "ename": "KeyboardInterrupt",
          "evalue": "ignored",
          "traceback": [
            "\u001b[0;31m---------------------------------------------------------------------------\u001b[0m",
            "\u001b[0;31mKeyboardInterrupt\u001b[0m                         Traceback (most recent call last)",
            "\u001b[0;32m<ipython-input-9-9cff4cc708d0>\u001b[0m in \u001b[0;36m<module>\u001b[0;34m()\u001b[0m\n\u001b[0;32m----> 1\u001b[0;31m \u001b[0mbc\u001b[0m \u001b[0;34m=\u001b[0m \u001b[0mBertClient\u001b[0m\u001b[0;34m(\u001b[0m\u001b[0moutput_fmt\u001b[0m\u001b[0;34m=\u001b[0m\u001b[0;34m'list'\u001b[0m\u001b[0;34m)\u001b[0m\u001b[0;34m\u001b[0m\u001b[0;34m\u001b[0m\u001b[0m\n\u001b[0m",
            "\u001b[0;32m/usr/local/lib/python3.6/dist-packages/bert_serving/client/__init__.py\u001b[0m in \u001b[0;36m__init__\u001b[0;34m(self, ip, port, port_out, output_fmt, show_server_config, identity, check_version, check_length, check_token_info, ignore_all_checks, timeout)\u001b[0m\n\u001b[1;32m    106\u001b[0m \u001b[0;34m\u001b[0m\u001b[0m\n\u001b[1;32m    107\u001b[0m         \u001b[0;32mif\u001b[0m \u001b[0;32mnot\u001b[0m \u001b[0mignore_all_checks\u001b[0m \u001b[0;32mand\u001b[0m \u001b[0;34m(\u001b[0m\u001b[0mcheck_version\u001b[0m \u001b[0;32mor\u001b[0m \u001b[0mshow_server_config\u001b[0m \u001b[0;32mor\u001b[0m \u001b[0mcheck_length\u001b[0m \u001b[0;32mor\u001b[0m \u001b[0mcheck_token_info\u001b[0m\u001b[0;34m)\u001b[0m\u001b[0;34m:\u001b[0m\u001b[0;34m\u001b[0m\u001b[0;34m\u001b[0m\u001b[0m\n\u001b[0;32m--> 108\u001b[0;31m             \u001b[0ms_status\u001b[0m \u001b[0;34m=\u001b[0m \u001b[0mself\u001b[0m\u001b[0;34m.\u001b[0m\u001b[0mserver_config\u001b[0m\u001b[0;34m\u001b[0m\u001b[0;34m\u001b[0m\u001b[0m\n\u001b[0m\u001b[1;32m    109\u001b[0m \u001b[0;34m\u001b[0m\u001b[0m\n\u001b[1;32m    110\u001b[0m             \u001b[0;32mif\u001b[0m \u001b[0mcheck_version\u001b[0m \u001b[0;32mand\u001b[0m \u001b[0ms_status\u001b[0m\u001b[0;34m[\u001b[0m\u001b[0;34m'server_version'\u001b[0m\u001b[0;34m]\u001b[0m \u001b[0;34m!=\u001b[0m \u001b[0mself\u001b[0m\u001b[0;34m.\u001b[0m\u001b[0mstatus\u001b[0m\u001b[0;34m[\u001b[0m\u001b[0;34m'client_version'\u001b[0m\u001b[0;34m]\u001b[0m\u001b[0;34m:\u001b[0m\u001b[0;34m\u001b[0m\u001b[0;34m\u001b[0m\u001b[0m\n",
            "\u001b[0;32m/usr/local/lib/python3.6/dist-packages/bert_serving/client/__init__.py\u001b[0m in \u001b[0;36marg_wrapper\u001b[0;34m(self, *args, **kwargs)\u001b[0m\n\u001b[1;32m    204\u001b[0m                 \u001b[0mself\u001b[0m\u001b[0;34m.\u001b[0m\u001b[0mreceiver\u001b[0m\u001b[0;34m.\u001b[0m\u001b[0msetsockopt\u001b[0m\u001b[0;34m(\u001b[0m\u001b[0mzmq\u001b[0m\u001b[0;34m.\u001b[0m\u001b[0mRCVTIMEO\u001b[0m\u001b[0;34m,\u001b[0m \u001b[0mself\u001b[0m\u001b[0;34m.\u001b[0m\u001b[0mtimeout\u001b[0m\u001b[0;34m)\u001b[0m\u001b[0;34m\u001b[0m\u001b[0;34m\u001b[0m\u001b[0m\n\u001b[1;32m    205\u001b[0m             \u001b[0;32mtry\u001b[0m\u001b[0;34m:\u001b[0m\u001b[0;34m\u001b[0m\u001b[0;34m\u001b[0m\u001b[0m\n\u001b[0;32m--> 206\u001b[0;31m                 \u001b[0;32mreturn\u001b[0m \u001b[0mfunc\u001b[0m\u001b[0;34m(\u001b[0m\u001b[0mself\u001b[0m\u001b[0;34m,\u001b[0m \u001b[0;34m*\u001b[0m\u001b[0margs\u001b[0m\u001b[0;34m,\u001b[0m \u001b[0;34m**\u001b[0m\u001b[0mkwargs\u001b[0m\u001b[0;34m)\u001b[0m\u001b[0;34m\u001b[0m\u001b[0;34m\u001b[0m\u001b[0m\n\u001b[0m\u001b[1;32m    207\u001b[0m             \u001b[0;32mexcept\u001b[0m \u001b[0mzmq\u001b[0m\u001b[0;34m.\u001b[0m\u001b[0merror\u001b[0m\u001b[0;34m.\u001b[0m\u001b[0mAgain\u001b[0m \u001b[0;32mas\u001b[0m \u001b[0m_e\u001b[0m\u001b[0;34m:\u001b[0m\u001b[0;34m\u001b[0m\u001b[0;34m\u001b[0m\u001b[0m\n\u001b[1;32m    208\u001b[0m                 t_e = TimeoutError(\n",
            "\u001b[0;32m/usr/local/lib/python3.6/dist-packages/bert_serving/client/__init__.py\u001b[0m in \u001b[0;36mserver_config\u001b[0;34m(self)\u001b[0m\n\u001b[1;32m    230\u001b[0m         \"\"\"\n\u001b[1;32m    231\u001b[0m         \u001b[0mreq_id\u001b[0m \u001b[0;34m=\u001b[0m \u001b[0mself\u001b[0m\u001b[0;34m.\u001b[0m\u001b[0m_send\u001b[0m\u001b[0;34m(\u001b[0m\u001b[0;34mb'SHOW_CONFIG'\u001b[0m\u001b[0;34m)\u001b[0m\u001b[0;34m\u001b[0m\u001b[0;34m\u001b[0m\u001b[0m\n\u001b[0;32m--> 232\u001b[0;31m         \u001b[0;32mreturn\u001b[0m \u001b[0mjsonapi\u001b[0m\u001b[0;34m.\u001b[0m\u001b[0mloads\u001b[0m\u001b[0;34m(\u001b[0m\u001b[0mself\u001b[0m\u001b[0;34m.\u001b[0m\u001b[0m_recv\u001b[0m\u001b[0;34m(\u001b[0m\u001b[0mreq_id\u001b[0m\u001b[0;34m)\u001b[0m\u001b[0;34m.\u001b[0m\u001b[0mcontent\u001b[0m\u001b[0;34m[\u001b[0m\u001b[0;36m1\u001b[0m\u001b[0;34m]\u001b[0m\u001b[0;34m)\u001b[0m\u001b[0;34m\u001b[0m\u001b[0;34m\u001b[0m\u001b[0m\n\u001b[0m\u001b[1;32m    233\u001b[0m \u001b[0;34m\u001b[0m\u001b[0m\n\u001b[1;32m    234\u001b[0m     \u001b[0;34m@\u001b[0m\u001b[0mproperty\u001b[0m\u001b[0;34m\u001b[0m\u001b[0;34m\u001b[0m\u001b[0m\n",
            "\u001b[0;32m/usr/local/lib/python3.6/dist-packages/bert_serving/client/__init__.py\u001b[0m in \u001b[0;36m_recv\u001b[0;34m(self, wait_for_req_id)\u001b[0m\n\u001b[1;32m    151\u001b[0m \u001b[0;34m\u001b[0m\u001b[0m\n\u001b[1;32m    152\u001b[0m                 \u001b[0;31m# receive a response\u001b[0m\u001b[0;34m\u001b[0m\u001b[0;34m\u001b[0m\u001b[0;34m\u001b[0m\u001b[0m\n\u001b[0;32m--> 153\u001b[0;31m                 \u001b[0mresponse\u001b[0m \u001b[0;34m=\u001b[0m \u001b[0mself\u001b[0m\u001b[0;34m.\u001b[0m\u001b[0mreceiver\u001b[0m\u001b[0;34m.\u001b[0m\u001b[0mrecv_multipart\u001b[0m\u001b[0;34m(\u001b[0m\u001b[0;34m)\u001b[0m\u001b[0;34m\u001b[0m\u001b[0;34m\u001b[0m\u001b[0m\n\u001b[0m\u001b[1;32m    154\u001b[0m                 \u001b[0mrequest_id\u001b[0m \u001b[0;34m=\u001b[0m \u001b[0mint\u001b[0m\u001b[0;34m(\u001b[0m\u001b[0mresponse\u001b[0m\u001b[0;34m[\u001b[0m\u001b[0;34m-\u001b[0m\u001b[0;36m1\u001b[0m\u001b[0;34m]\u001b[0m\u001b[0;34m)\u001b[0m\u001b[0;34m\u001b[0m\u001b[0;34m\u001b[0m\u001b[0m\n\u001b[1;32m    155\u001b[0m \u001b[0;34m\u001b[0m\u001b[0m\n",
            "\u001b[0;32m/usr/local/lib/python3.6/dist-packages/zmq/sugar/socket.py\u001b[0m in \u001b[0;36mrecv_multipart\u001b[0;34m(self, flags, copy, track)\u001b[0m\n\u001b[1;32m    473\u001b[0m             \u001b[0;32mfor\u001b[0m \u001b[0many\u001b[0m \u001b[0mof\u001b[0m \u001b[0mthe\u001b[0m \u001b[0mreasons\u001b[0m \u001b[0;34m:\u001b[0m\u001b[0mfunc\u001b[0m\u001b[0;34m:\u001b[0m\u001b[0;31m`\u001b[0m\u001b[0;34m~\u001b[0m\u001b[0mSocket\u001b[0m\u001b[0;34m.\u001b[0m\u001b[0mrecv\u001b[0m\u001b[0;31m`\u001b[0m \u001b[0mmight\u001b[0m \u001b[0mfail\u001b[0m\u001b[0;34m\u001b[0m\u001b[0;34m\u001b[0m\u001b[0m\n\u001b[1;32m    474\u001b[0m         \"\"\"\n\u001b[0;32m--> 475\u001b[0;31m         \u001b[0mparts\u001b[0m \u001b[0;34m=\u001b[0m \u001b[0;34m[\u001b[0m\u001b[0mself\u001b[0m\u001b[0;34m.\u001b[0m\u001b[0mrecv\u001b[0m\u001b[0;34m(\u001b[0m\u001b[0mflags\u001b[0m\u001b[0;34m,\u001b[0m \u001b[0mcopy\u001b[0m\u001b[0;34m=\u001b[0m\u001b[0mcopy\u001b[0m\u001b[0;34m,\u001b[0m \u001b[0mtrack\u001b[0m\u001b[0;34m=\u001b[0m\u001b[0mtrack\u001b[0m\u001b[0;34m)\u001b[0m\u001b[0;34m]\u001b[0m\u001b[0;34m\u001b[0m\u001b[0;34m\u001b[0m\u001b[0m\n\u001b[0m\u001b[1;32m    476\u001b[0m         \u001b[0;31m# have first part already, only loop while more to receive\u001b[0m\u001b[0;34m\u001b[0m\u001b[0;34m\u001b[0m\u001b[0;34m\u001b[0m\u001b[0m\n\u001b[1;32m    477\u001b[0m         \u001b[0;32mwhile\u001b[0m \u001b[0mself\u001b[0m\u001b[0;34m.\u001b[0m\u001b[0mgetsockopt\u001b[0m\u001b[0;34m(\u001b[0m\u001b[0mzmq\u001b[0m\u001b[0;34m.\u001b[0m\u001b[0mRCVMORE\u001b[0m\u001b[0;34m)\u001b[0m\u001b[0;34m:\u001b[0m\u001b[0;34m\u001b[0m\u001b[0;34m\u001b[0m\u001b[0m\n",
            "\u001b[0;32mzmq/backend/cython/socket.pyx\u001b[0m in \u001b[0;36mzmq.backend.cython.socket.Socket.recv\u001b[0;34m()\u001b[0m\n",
            "\u001b[0;32mzmq/backend/cython/socket.pyx\u001b[0m in \u001b[0;36mzmq.backend.cython.socket.Socket.recv\u001b[0;34m()\u001b[0m\n",
            "\u001b[0;32mzmq/backend/cython/socket.pyx\u001b[0m in \u001b[0;36mzmq.backend.cython.socket._recv_copy\u001b[0;34m()\u001b[0m\n",
            "\u001b[0;32m/usr/local/lib/python3.6/dist-packages/zmq/backend/cython/checkrc.pxd\u001b[0m in \u001b[0;36mzmq.backend.cython.checkrc._check_rc\u001b[0;34m()\u001b[0m\n",
            "\u001b[0;31mKeyboardInterrupt\u001b[0m: "
          ]
        }
      ]
    },
    {
      "cell_type": "code",
      "metadata": {
        "id": "lOfYtHUQRI7z",
        "colab_type": "code",
        "colab": {}
      },
      "source": [
        "# # Sentence encoding\n",
        "# for dataset in DATASETS:\n",
        "#   print(dataset)\n",
        "#   data = load_data(DATA_DIR, dataset, encoded=False)\n",
        "#   tac = make_tac(data, encode_sentences)\n",
        "#   store_data(DATA_DIR, dataset, tac)"
      ],
      "execution_count": 0,
      "outputs": []
    },
    {
      "cell_type": "code",
      "metadata": {
        "id": "m8ko4wXI3bFs",
        "colab_type": "code",
        "outputId": "e6398874-c428-45ea-e336-090850d28d28",
        "colab": {
          "base_uri": "https://localhost:8080/",
          "height": 836
        }
      },
      "source": [
        "for dataset_id in DATASET_IDS:\n",
        "    print(dataset_id)\n",
        "    dataset = load_data('data', dataset_id, encoded=False)\n",
        "    \n",
        "    for topic_id in TOPIC_IDS[dataset_id]:\n",
        "        print('   {}'.format(topic_id))\n",
        "        \n",
        "        topic = make_topic(dataset[topic_id], encode_bigrams_lsa)\n",
        "        store_data(os.path.join(EMBEDDINGS_DIR, dataset_id), topic_id, topic)"
      ],
      "execution_count": 0,
      "outputs": [
        {
          "output_type": "stream",
          "text": [
            "TAC2009\n",
            "   D0919\n"
          ],
          "name": "stdout"
        },
        {
          "output_type": "stream",
          "text": [
            "/usr/local/lib/python3.6/dist-packages/bert_serving/client/__init__.py:290: UserWarning: server does not put a restriction on \"max_seq_len\", it will determine \"max_seq_len\" dynamically according to the sequences in the batch. you can restrict the sequence length on the client side for better efficiency\n",
            "  warnings.warn('server does not put a restriction on \"max_seq_len\", '\n"
          ],
          "name": "stderr"
        },
        {
          "output_type": "stream",
          "text": [
            "   D0904\n",
            "   D0934\n",
            "   D0928\n",
            "   D0944\n",
            "   D0917\n",
            "   D0926\n",
            "   D0921\n",
            "   D0930\n",
            "   D0907\n",
            "   D0929\n",
            "   D0913\n",
            "   D0920\n",
            "   D0909\n",
            "   D0922\n",
            "   D0935\n",
            "   D0912\n",
            "   D0903\n",
            "   D0927\n",
            "   D0940\n",
            "   D0902\n",
            "   D0925\n",
            "   D0910\n",
            "   D0931\n",
            "   D0943\n",
            "   D0939\n",
            "   D0937\n",
            "   D0933\n",
            "   D0915\n",
            "   D0941\n",
            "   D0911\n",
            "   D0924\n",
            "   D0908\n",
            "   D0932\n",
            "   D0914\n",
            "   D0916\n",
            "   D0905\n",
            "   D0923\n",
            "   D0936\n",
            "   D0938\n",
            "   D0942\n",
            "   D0918\n",
            "   D0901\n",
            "   D0906\n"
          ],
          "name": "stdout"
        }
      ]
    },
    {
      "cell_type": "code",
      "metadata": {
        "id": "ThVE67wf8CwD",
        "colab_type": "code",
        "outputId": "6f0e7b74-14f0-4501-d0e0-6d84978595ad",
        "colab": {
          "base_uri": "https://localhost:8080/",
          "height": 799
        }
      },
      "source": [
        "!zip -r data.zip data/"
      ],
      "execution_count": 0,
      "outputs": [
        {
          "output_type": "stream",
          "text": [
            "  adding: data/ (stored 0%)\n",
            "  adding: data/D0920_encoded.json (deflated 74%)\n",
            "  adding: data/D0905_encoded.json (deflated 74%)\n",
            "  adding: data/D0901_encoded.json (deflated 74%)\n",
            "  adding: data/D0931_encoded.json (deflated 74%)\n",
            "  adding: data/TAC2009.json (deflated 81%)\n",
            "  adding: data/D0904_encoded.json (deflated 74%)\n",
            "  adding: data/D0938_encoded.json (deflated 74%)\n",
            "  adding: data/D0912_encoded.json (deflated 74%)\n",
            "  adding: data/D0915_encoded.json (deflated 74%)\n",
            "  adding: data/D0923_encoded.json (deflated 74%)\n",
            "  adding: data/D0941_encoded.json (deflated 74%)\n",
            "  adding: data/D0911_encoded.json (deflated 74%)\n",
            "  adding: data/D0936_encoded.json (deflated 74%)\n",
            "  adding: data/D0940_encoded.json (deflated 74%)\n",
            "  adding: data/D0926_encoded.json (deflated 74%)\n",
            "  adding: data/D0922_encoded.json (deflated 74%)\n",
            "  adding: data/D0934_encoded.json (deflated 75%)\n",
            "  adding: data/D0933_encoded.json (deflated 74%)\n",
            "  adding: data/D0942_encoded.json (deflated 75%)\n",
            "  adding: data/D0902_encoded.json (deflated 74%)\n",
            "  adding: data/D0932_encoded.json (deflated 74%)\n",
            "  adding: data/D0925_encoded.json (deflated 74%)\n",
            "  adding: data/D0927_encoded.json (deflated 74%)\n",
            "  adding: data/D0944_encoded.json (deflated 74%)\n",
            "  adding: data/D0903_encoded.json (deflated 74%)\n",
            "  adding: data/D0921_encoded.json (deflated 75%)\n",
            "  adding: data/D0917_encoded.json (deflated 74%)\n",
            "  adding: data/D0916_encoded.json (deflated 74%)\n",
            "  adding: data/D0918_encoded.json (deflated 74%)\n",
            "  adding: data/D0928_encoded.json (deflated 74%)\n",
            "  adding: data/D0908_encoded.json (deflated 75%)\n",
            "  adding: data/D0910_encoded.json (deflated 75%)\n",
            "  adding: data/D0924_encoded.json (deflated 74%)\n",
            "  adding: data/D0935_encoded.json (deflated 74%)\n",
            "  adding: data/D0939_encoded.json (deflated 74%)\n",
            "  adding: data/D0943_encoded.json (deflated 74%)\n",
            "  adding: data/D0929_encoded.json (deflated 75%)\n",
            "  adding: data/D0914_encoded.json (deflated 74%)\n",
            "  adding: data/D0913_encoded.json (deflated 74%)\n",
            "  adding: data/D0937_encoded.json (deflated 74%)\n",
            "  adding: data/D0919_encoded.json (deflated 74%)\n",
            "  adding: data/D0906_encoded.json (deflated 74%)\n",
            "  adding: data/D0907_encoded.json (deflated 74%)\n",
            "  adding: data/D0930_encoded.json (deflated 74%)\n",
            "  adding: data/D0909_encoded.json (deflated 74%)\n"
          ],
          "name": "stdout"
        }
      ]
    },
    {
      "cell_type": "code",
      "metadata": {
        "id": "dl0qTdaoa1t-",
        "colab_type": "code",
        "colab": {}
      },
      "source": [
        ""
      ],
      "execution_count": 0,
      "outputs": []
    }
  ]
}