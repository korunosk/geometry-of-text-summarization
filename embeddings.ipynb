{
 "cells": [
  {
   "cell_type": "markdown",
   "metadata": {},
   "source": [
    "## Run in Google Colab\n",
    "\n",
    "1. Upload config.py\n",
    "2. Make 'data' directory\n",
    "3. Upload TAC2008.json and TAC2009.json in 'data'"
   ]
  },
  {
   "cell_type": "code",
   "execution_count": 1,
   "metadata": {},
   "outputs": [],
   "source": [
    "# !pip install bert-serving-client\n",
    "# !pip install -U bert-serving-server[http]"
   ]
  },
  {
   "cell_type": "code",
   "execution_count": 2,
   "metadata": {},
   "outputs": [],
   "source": [
    "# !wget https://storage.googleapis.com/bert_models/2018_10_18/uncased_L-12_H-768_A-12.zip\n",
    "# !mkdir models\n",
    "# !unzip uncased_L-12_H-768_A-12.zip -d models"
   ]
  },
  {
   "cell_type": "code",
   "execution_count": null,
   "metadata": {},
   "outputs": [],
   "source": [
    "# !nohup bert-serving-start -model_dir models/uncased_L-12_H-768_A-12/ -num_worker=4 -max_seq_len=160 -max_batch_size=50 -show_tokens_to_client > out.file 2>&1 &"
   ]
  },
  {
   "cell_type": "code",
   "execution_count": 3,
   "metadata": {},
   "outputs": [],
   "source": [
    "import os\n",
    "import json\n",
    "import numpy as np\n",
    "from operator import itemgetter\n",
    "from itertools import chain\n",
    "\n",
    "from bert_serving.client import BertClient\n",
    "\n",
    "from config import *"
   ]
  },
  {
   "cell_type": "code",
   "execution_count": 4,
   "metadata": {},
   "outputs": [],
   "source": [
    "def load_data(dataset):\n",
    "    with open(os.path.join(DATA_DIR, dataset + '.json'), mode='r') as fp:\n",
    "        return json.load(fp)\n",
    "\n",
    "def store_tac(dataset, tac):\n",
    "    with open(os.path.join(DATA_DIR, dataset + '_encoded.json'), mode='w') as fp:\n",
    "        json.dump(tac, fp, indent=4)\n",
    "\n",
    "def encode(docs):\n",
    "    docs = list(map(lambda doc: list(filter(len, doc)), docs)) # remove empty sentences in summary\n",
    "    n = np.cumsum([0] + list(map(len,docs)))\n",
    "    embs = bc.encode(list(chain(*docs)))\n",
    "    return [embs[i:j] for i,j in zip(n[:-1],n[1:])]\n",
    "\n",
    "def make_annotations(scrs, embs):\n",
    "    return [{'pyr_score': s, 'embedding': e} for s,e in zip(scrs, embs)]\n",
    "\n",
    "def make_tac(data):\n",
    "    tac = {}\n",
    "\n",
    "    for topic_id, topic in data.items():\n",
    "        print('  ',topic_id)\n",
    "\n",
    "        documents = topic['documents']\n",
    "        annotations = topic['annotations']\n",
    "\n",
    "        summaries = list(map(itemgetter('text'), annotations))\n",
    "        pyr_scores = list(map(itemgetter('pyr_score'), annotations))\n",
    "\n",
    "        tac[topic_id] = {\n",
    "            'documents': encode(documents),\n",
    "            'annotations': make_annotations(pyr_scores, encode(summaries))\n",
    "        }\n",
    "    \n",
    "    return tac"
   ]
  },
  {
   "cell_type": "code",
   "execution_count": 5,
   "metadata": {},
   "outputs": [],
   "source": [
    "bc = BertClient(output_fmt='list')"
   ]
  },
  {
   "cell_type": "code",
   "execution_count": 6,
   "metadata": {},
   "outputs": [],
   "source": [
    "for dataset in DATASETS:\n",
    "    print(dataset)\n",
    "    data = load_data(dataset)\n",
    "    tac = make_tac(data)\n",
    "    store_tac(dataset, tac)"
   ]
  },
  {
   "cell_type": "code",
   "execution_count": null,
   "metadata": {},
   "outputs": [],
   "source": [
    "# !zip data/TAC2008_encoded.zip data/TAC2008_encoded.json\n",
    "# !zip data/TAC2009_encoded.zip data/TAC2009_encoded.json"
   ]
  }
 ],
 "metadata": {
  "kernelspec": {
   "display_name": "Python 3",
   "language": "python",
   "name": "python3"
  },
  "language_info": {
   "codemirror_mode": {
    "name": "ipython",
    "version": 3
   },
   "file_extension": ".py",
   "mimetype": "text/x-python",
   "name": "python",
   "nbconvert_exporter": "python",
   "pygments_lexer": "ipython3",
   "version": "3.7.0"
  }
 },
 "nbformat": 4,
 "nbformat_minor": 4
}
