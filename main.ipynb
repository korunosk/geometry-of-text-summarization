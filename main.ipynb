{
 "cells": [
  {
   "cell_type": "code",
   "execution_count": 1,
   "metadata": {},
   "outputs": [
    {
     "data": {
      "text/html": [
       "        <script type=\"text/javascript\">\n",
       "        window.PlotlyConfig = {MathJaxConfig: 'local'};\n",
       "        if (window.MathJax) {MathJax.Hub.Config({SVG: {font: \"STIX-Web\"}});}\n",
       "        if (typeof require !== 'undefined') {\n",
       "        require.undef(\"plotly\");\n",
       "        requirejs.config({\n",
       "            paths: {\n",
       "                'plotly': ['https://cdn.plot.ly/plotly-latest.min']\n",
       "            }\n",
       "        });\n",
       "        require(['plotly'], function(Plotly) {\n",
       "            window._Plotly = Plotly;\n",
       "        });\n",
       "        }\n",
       "        </script>\n",
       "        "
      ]
     },
     "metadata": {},
     "output_type": "display_data"
    },
    {
     "data": {
      "text/html": [
       "        <script type=\"text/javascript\">\n",
       "        window.PlotlyConfig = {MathJaxConfig: 'local'};\n",
       "        if (window.MathJax) {MathJax.Hub.Config({SVG: {font: \"STIX-Web\"}});}\n",
       "        if (typeof require !== 'undefined') {\n",
       "        require.undef(\"plotly\");\n",
       "        requirejs.config({\n",
       "            paths: {\n",
       "                'plotly': ['https://cdn.plot.ly/plotly-latest.min']\n",
       "            }\n",
       "        });\n",
       "        require(['plotly'], function(Plotly) {\n",
       "            window._Plotly = Plotly;\n",
       "        });\n",
       "        }\n",
       "        </script>\n",
       "        "
      ]
     },
     "metadata": {},
     "output_type": "display_data"
    }
   ],
   "source": [
    "import sys\n",
    "import os\n",
    "import time\n",
    "import json\n",
    "import numpy as np\n",
    "from scipy.stats import kendalltau\n",
    "from scipy.spatial import ConvexHull\n",
    "import pandas as pd\n",
    "from operator import itemgetter\n",
    "from itertools import chain\n",
    "from collections import Counter\n",
    "from tqdm.notebook import tqdm\n",
    "from ipywidgets import interact\n",
    "from plotly.offline import init_notebook_mode, iplot\n",
    "import cufflinks as cf\n",
    "init_notebook_mode(connected=True)\n",
    "cf.go_offline()\n",
    "\n",
    "from sklearn.decomposition import PCA\n",
    "from sklearn.manifold import TSNE\n",
    "from sklearn.preprocessing import normalize\n",
    "\n",
    "import string\n",
    "from nltk.corpus import stopwords\n",
    "from transformers import BertTokenizer\n",
    "\n",
    "import matplotlib.pyplot as plt\n",
    "\n",
    "from bert_serving.client import BertClient\n",
    "\n",
    "import torch\n",
    "from torch.utils.tensorboard import SummaryWriter\n",
    "\n",
    "from config import *"
   ]
  },
  {
   "cell_type": "code",
   "execution_count": 2,
   "metadata": {},
   "outputs": [],
   "source": [
    "def make_pytorch_projector(log_dir, mat, labels=None):\n",
    "    '''Exports PyTorch projector'''\n",
    "    writer = SummaryWriter(log_dir)\n",
    "    writer.add_embedding(mat, metadata=labels)\n",
    "    writer.close()\n",
    "\n",
    "\n",
    "def valid_tokens(sentence):\n",
    "    return list(filter(lambda token: token not in INVALID_TOKENS, sentence))\n",
    "\n",
    "def tokenize_document(document):\n",
    "    return list(map(tokenizer.tokenize, document))\n",
    "\n",
    "def filter_document(document):\n",
    "    return list(map(valid_tokens, document))\n",
    "\n",
    "def preprocess(document):\n",
    "    return filter_document(tokenize_document(document))\n",
    "\n",
    "def distance(u, B):\n",
    "    '''Calculates a distance from vector to subspace'''\n",
    "    return np.linalg.norm(u - (u @ B.T) @ B)\n",
    "\n",
    "\n",
    "def naive(documents, summaries):\n",
    "    '''Number of words repeated in the summary'''\n",
    "    scores = []\n",
    "    for summary in summaries:\n",
    "        cnt = Counter(chain(*preprocess(summary)))    \n",
    "        scores.append(len([cnt[k] for k in cnt if cnt[k] > 1]))\n",
    "    return scores\n",
    "\n",
    "def semantic_volume(document_embs, summary_embs):\n",
    "    # TODO: ask Maxime about implementation\n",
    "    B = normalize(np.array(document_embs), axis=1)\n",
    "    scores = []\n",
    "    for summary in summary_embs:\n",
    "        R = np.array(summary)\n",
    "        scores.append(np.average(np.apply_along_axis(distance, 1, R, B)))\n",
    "    return scores"
   ]
  },
  {
   "cell_type": "code",
   "execution_count": 3,
   "metadata": {},
   "outputs": [],
   "source": [
    "INVALID_TOKENS = set(stopwords.words('english') + list(string.punctuation))"
   ]
  },
  {
   "cell_type": "markdown",
   "metadata": {},
   "source": [
    "# Main"
   ]
  },
  {
   "cell_type": "markdown",
   "metadata": {},
   "source": [
    "## Use-case\n",
    "\n",
    "1. Take the documents, summaries, and pyramid scores for one topic\n",
    "2. Embed the documents and summaries (or load embeddings) using bert-as-service (unmodif)\n",
    "3. Calculate score for summaries\n",
    "4. Compute correlation with human judgements\n",
    "5. Export TensorBoard projector"
   ]
  },
  {
   "cell_type": "markdown",
   "metadata": {},
   "source": [
    "## Get embeddings"
   ]
  },
  {
   "cell_type": "code",
   "execution_count": 4,
   "metadata": {},
   "outputs": [],
   "source": [
    "# tokenizer = BertTokenizer.from_pretrained('bert-base-uncased')\n",
    "# bc = BertClient(output_fmt='list') # The tokenizer might be different from the Huggingface's one"
   ]
  },
  {
   "cell_type": "code",
   "execution_count": 5,
   "metadata": {},
   "outputs": [],
   "source": [
    "# with open(os.path.join(DATA_DIR, DATASETS[0] + '.json')) as fp:\n",
    "#     tac = json.load(fp)\n",
    "# tac.keys()"
   ]
  },
  {
   "cell_type": "code",
   "execution_count": 6,
   "metadata": {},
   "outputs": [],
   "source": [
    "# topic = tac['D0841']\n",
    "\n",
    "# documents = topic['documents']\n",
    "# annotations = topic['annotations']\n",
    "\n",
    "# summaries = list(map(itemgetter('text'), annotations))\n",
    "# pyr_scores = list(map(itemgetter('pyr_score'), annotations))"
   ]
  },
  {
   "cell_type": "code",
   "execution_count": 7,
   "metadata": {},
   "outputs": [],
   "source": [
    "# document_embs = []\n",
    "# for document in tqdm(documents):\n",
    "#     document_embs.extend(bc.encode(document))"
   ]
  },
  {
   "cell_type": "code",
   "execution_count": 8,
   "metadata": {},
   "outputs": [],
   "source": [
    "# summary_embs = []\n",
    "# for summary in tqdm(summaries):\n",
    "#     summary_embs.append(bc.encode(list(filter(len, summary)))) # Some sents are empty. Why?"
   ]
  },
  {
   "cell_type": "markdown",
   "metadata": {},
   "source": [
    "## Scores"
   ]
  },
  {
   "cell_type": "code",
   "execution_count": 9,
   "metadata": {},
   "outputs": [],
   "source": [
    "# naive_scores = naive(documents, summaries)\n",
    "# kendalltau(pyr_scores, naive_scores)[0]"
   ]
  },
  {
   "cell_type": "code",
   "execution_count": 10,
   "metadata": {},
   "outputs": [],
   "source": [
    "# semantic_volume_scores = semantic_volume(document_embs, summary_embs)\n",
    "# kendalltau(pyr_scores, semantic_volume_scores)[0]"
   ]
  },
  {
   "cell_type": "markdown",
   "metadata": {},
   "source": [
    "## Load embeddings"
   ]
  },
  {
   "cell_type": "code",
   "execution_count": 11,
   "metadata": {},
   "outputs": [
    {
     "data": {
      "text/plain": [
       "dict_keys(['D0841', 'D0804', 'D0802', 'D0809', 'D0819', 'D0825', 'D0828', 'D0826', 'D0843', 'D0829', 'D0813', 'D0807', 'D0812', 'D0820', 'D0835', 'D0823', 'D0847', 'D0848', 'D0810', 'D0822', 'D0845', 'D0844', 'D0839', 'D0814', 'D0824', 'D0821', 'D0827', 'D0846', 'D0818', 'D0834', 'D0805', 'D0817', 'D0831', 'D0815', 'D0836', 'D0806', 'D0808', 'D0837', 'D0803', 'D0830', 'D0838', 'D0840', 'D0842', 'D0832', 'D0816', 'D0801', 'D0833', 'D0811'])"
      ]
     },
     "execution_count": 11,
     "metadata": {},
     "output_type": "execute_result"
    }
   ],
   "source": [
    "with open(os.path.join(DATA_DIR, DATASETS[0] + '_encoded.json')) as fp:\n",
    "    tac = json.load(fp)\n",
    "tac.keys()"
   ]
  },
  {
   "cell_type": "markdown",
   "metadata": {},
   "source": [
    "## Scores"
   ]
  },
  {
   "cell_type": "code",
   "execution_count": 27,
   "metadata": {},
   "outputs": [
    {
     "name": "stdout",
     "output_type": "stream",
     "text": [
      "D0805\n"
     ]
    },
    {
     "data": {
      "text/plain": [
       "-0.0016107970680001558"
      ]
     },
     "execution_count": 27,
     "metadata": {},
     "output_type": "execute_result"
    }
   ],
   "source": [
    "scores = []\n",
    "\n",
    "for topic_id, topic in tac.items():\n",
    "    document_embs = list(chain(*topic['documents']))\n",
    "    annotations = topic['annotations']\n",
    "\n",
    "    summary_embs = list(map(itemgetter('embedding'), annotations))\n",
    "    pyr_scores = list(map(itemgetter('pyr_score'), annotations))\n",
    "    \n",
    "    try:\n",
    "        semantic_volume_scores = semantic_volume(document_embs, summary_embs)\n",
    "        scores.append(kendalltau(pyr_scores, semantic_volume_scores)[0])\n",
    "    except: # Some summaries are empty\n",
    "        print(topic_id)\n",
    "    \n",
    "np.mean(scores)"
   ]
  },
  {
   "cell_type": "code",
   "execution_count": 13,
   "metadata": {},
   "outputs": [],
   "source": [
    "topic = tac['D0841']\n",
    "\n",
    "document_embs = list(chain(*topic['documents']))\n",
    "annotations = topic['annotations']\n",
    "\n",
    "summary_embs = list(map(itemgetter('embedding'), annotations))\n",
    "pyr_scores = list(map(itemgetter('pyr_score'), annotations))"
   ]
  },
  {
   "cell_type": "markdown",
   "metadata": {},
   "source": [
    "## Plot"
   ]
  },
  {
   "cell_type": "code",
   "execution_count": 14,
   "metadata": {},
   "outputs": [],
   "source": [
    "def plt_hull(ax, pts, c):\n",
    "    hull = ConvexHull(pts)\n",
    "    idx = np.concatenate((hull.vertices, hull.vertices[:1]))\n",
    "    ax.plot(pts[idx,0],pts[idx,1], f'{c}--', lw=2)\n",
    "    \n",
    "def plot(ax, document_pts, summary_pts, add_hull=True):\n",
    "    ax.scatter(document_pts[:,0],document_pts[:,1],c='b',alpha=0.25 if add_hull else 1)\n",
    "    ax.scatter(summary_pts[:,0],summary_pts[:,1],c='r',alpha=0.25 if add_hull else 1)\n",
    "    if add_hull:\n",
    "        plt_hull(ax, document_pts, 'b')\n",
    "        plt_hull(ax, summary_pts, 'r')"
   ]
  },
  {
   "cell_type": "code",
   "execution_count": 15,
   "metadata": {},
   "outputs": [],
   "source": [
    "document_embs_np = np.array(document_embs)\n",
    "pyr_scores_np = np.array(pyr_scores)\n",
    "summary_embs_np = np.array(summary_embs)"
   ]
  },
  {
   "cell_type": "code",
   "execution_count": 16,
   "metadata": {},
   "outputs": [
    {
     "name": "stdout",
     "output_type": "stream",
     "text": [
      "62\n"
     ]
    },
    {
     "data": {
      "text/plain": [
       "array([61, 59, 42, 12, 60,  3, 49, 58, 56, 23, 22, 30, 26, 10, 14, 41, 11,\n",
       "       44, 45, 19, 57, 33, 34, 35, 51,  1, 37, 20, 40,  6, 13, 31, 32, 24,\n",
       "       50, 21, 17, 39, 46, 48,  5, 52, 43, 36, 15, 25,  7, 29, 28, 54, 38,\n",
       "        4, 55, 18, 27, 16,  2, 47, 53,  0,  9,  8])"
      ]
     },
     "execution_count": 16,
     "metadata": {},
     "output_type": "execute_result"
    }
   ],
   "source": [
    "m = np.argsort(-pyr_scores_np) # Holds sorted indices of the pyramid scores\n",
    "print(len(m))\n",
    "m"
   ]
  },
  {
   "cell_type": "code",
   "execution_count": 17,
   "metadata": {},
   "outputs": [
    {
     "name": "stdout",
     "output_type": "stream",
     "text": [
      "63\n"
     ]
    },
    {
     "data": {
      "text/plain": [
       "array([195, 205, 211, 216, 221, 228, 232, 236, 240, 243, 246, 249, 251,\n",
       "       255, 259, 262, 266, 270, 275, 279, 283, 287, 290, 294, 299, 303,\n",
       "       307, 313, 317, 321, 326, 330, 334, 340, 345, 349, 353, 357, 361,\n",
       "       366, 370, 373, 377, 385, 386, 391, 395, 401, 406, 407, 411, 415,\n",
       "       418, 422, 427, 431, 435, 439, 443, 447, 451, 457, 462])"
      ]
     },
     "execution_count": 17,
     "metadata": {},
     "output_type": "execute_result"
    }
   ],
   "source": [
    "n = np.cumsum([len(document_embs)] + list(map(len, summary_embs_np[m]))) # Holds cumulative sum\n",
    "print(len(n))\n",
    "n"
   ]
  },
  {
   "cell_type": "markdown",
   "metadata": {},
   "source": [
    "### TensorBoard"
   ]
  },
  {
   "cell_type": "code",
   "execution_count": 18,
   "metadata": {},
   "outputs": [],
   "source": [
    "t = int(time.time())\n",
    "\n",
    "data = torch.tensor(document_embs + summary_embs[m[0]])\n",
    "labels = [0] * len(document_embs) + [1] * len(summary_embs[m[0]])\n",
    "make_pytorch_projector(os.path.join(RUNS_DIR, f'geometry_sumarization_best_{t}'), data, labels)\n",
    "\n",
    "data = torch.tensor(document_embs + list(chain(*[summary_embs[m[i]] for i in range(len(m))])))\n",
    "labels = [0] * len(document_embs) + list(chain(*[[i+1] * len(summary_embs[m[i]]) for i in range(len(m))]))\n",
    "make_pytorch_projector(os.path.join(RUNS_DIR, f'geometry_sumarization_all_{t}'), data, labels)"
   ]
  },
  {
   "cell_type": "markdown",
   "metadata": {},
   "source": [
    "### Matplotlib + PCA"
   ]
  },
  {
   "cell_type": "code",
   "execution_count": 19,
   "metadata": {},
   "outputs": [
    {
     "data": {
      "image/png": "[encoded data removed]",
      "text/plain": [
       "<Figure size 720x360 with 2 Axes>"
      ]
     },
     "metadata": {
      "needs_background": "light"
     },
     "output_type": "display_data"
    }
   ],
   "source": [
    "pca = PCA(n_components=2)\n",
    "document_pts = pca.fit_transform(document_embs)\n",
    "\n",
    "fig = plt.figure(figsize=(10,5))\n",
    "\n",
    "ax1 = fig.add_subplot(1,2,1)\n",
    "plot(ax1, document_pts, pca.transform(summary_embs[m[0]]), add_hull=True)\n",
    "\n",
    "ax2 = fig.add_subplot(1,2,2)\n",
    "plot(ax2, document_pts, pca.transform(summary_embs[m[1]]), add_hull=True)"
   ]
  },
  {
   "cell_type": "markdown",
   "metadata": {},
   "source": [
    "### Matplotlib + t-SNE"
   ]
  },
  {
   "cell_type": "code",
   "execution_count": 20,
   "metadata": {},
   "outputs": [
    {
     "name": "stdout",
     "output_type": "stream",
     "text": [
      "[t-SNE] Computing 91 nearest neighbors...\n",
      "[t-SNE] Indexed 211 samples in 0.005s...\n",
      "[t-SNE] Computed neighbors for 211 samples in 0.052s...\n",
      "[t-SNE] Computed conditional probabilities for sample 211 / 211\n",
      "[t-SNE] Mean sigma: 2.709821\n",
      "[t-SNE] KL divergence after 250 iterations with early exaggeration: 65.623611\n",
      "[t-SNE] KL divergence after 1000 iterations: 0.731465\n"
     ]
    },
    {
     "data": {
      "image/png": "[encoded data removed]",
      "text/plain": [
       "<Figure size 720x360 with 2 Axes>"
      ]
     },
     "metadata": {
      "needs_background": "light"
     },
     "output_type": "display_data"
    }
   ],
   "source": [
    "tsne = TSNE(n_iter=1000, perplexity=30, verbose=1)\n",
    "pts = tsne.fit_transform(document_embs + summary_embs[m[0]] + summary_embs[m[1]])\n",
    "\n",
    "fig = plt.figure(figsize=(10,5))\n",
    "\n",
    "ax1 = fig.add_subplot(1,2,1)\n",
    "plot(ax1, pts[:n[0]], pts[n[0]:n[1]], add_hull=True)\n",
    "\n",
    "ax2 = fig.add_subplot(1,2,2)\n",
    "plot(ax2, pts[:n[0]], pts[n[1]:], add_hull=True)"
   ]
  },
  {
   "cell_type": "markdown",
   "metadata": {},
   "source": [
    "## Interactive plot"
   ]
  },
  {
   "cell_type": "markdown",
   "metadata": {},
   "source": [
    "### Plotly + PCA"
   ]
  },
  {
   "cell_type": "code",
   "execution_count": 21,
   "metadata": {},
   "outputs": [],
   "source": [
    "def make_df(pts, label):\n",
    "    df = pd.DataFrame(pts, columns=['pca-0','pca-1'])\n",
    "    df['label'] = label\n",
    "    return df"
   ]
  },
  {
   "cell_type": "code",
   "execution_count": 22,
   "metadata": {},
   "outputs": [],
   "source": [
    "pca = PCA(n_components=2)\n",
    "document_pts = pca.fit_transform(document_embs)\n",
    "\n",
    "df = pd.concat([make_df(document_pts, 'doc')] + \\\n",
    "               [make_df(pca.transform(summary_embs[m[i]]), f'sum-{i+1}') for i in range(len(m))], ignore_index=True)"
   ]
  },
  {
   "cell_type": "code",
   "execution_count": 23,
   "metadata": {},
   "outputs": [
    {
     "data": {
      "application/vnd.jupyter.widget-view+json": {
       "model_id": "d6168a017c1a4455a86450365afa497f",
       "version_major": 2,
       "version_minor": 0
      },
      "text/plain": [
       "interactive(children=(Dropdown(description='label', options=('sum-1', 'sum-2', 'sum-3', 'sum-4', 'sum-5', 'sum…"
      ]
     },
     "metadata": {},
     "output_type": "display_data"
    }
   ],
   "source": [
    "@interact\n",
    "def scatter_plot(label=df.label.unique()[1:]):\n",
    "    df[df.label.isin(('doc',label))].iplot(kind='scatter',\n",
    "                                           x='pca-0',y='pca-1',\n",
    "                                           mode='markers',\n",
    "                                           categories='label',\n",
    "                                           theme='solar',\n",
    "                                           colorscale='set1')"
   ]
  },
  {
   "cell_type": "markdown",
   "metadata": {},
   "source": [
    "# Misc"
   ]
  },
  {
   "cell_type": "markdown",
   "metadata": {},
   "source": [
    "## Extractive Summarization by Maximizing Semantic Volume\n",
    "\n",
    "Paper: https://www.aclweb.org/anthology/D15-1228.pdf"
   ]
  },
  {
   "cell_type": "code",
   "execution_count": 24,
   "metadata": {},
   "outputs": [],
   "source": [
    "def mask(N, idx):\n",
    "    mask = np.ones(N, dtype=bool)\n",
    "    mask[idx] = False\n",
    "    return mask\n",
    "\n",
    "N = n[0]\n",
    "\n",
    "R = document_embs_np\n",
    "B = np.ndarray(shape=(0,R.shape[1]))\n",
    "idx = []\n",
    "\n",
    "c = R.sum(axis=0) / N\n",
    "\n",
    "p = np.argmax(np.linalg.norm(R - c, axis=1))\n",
    "idx.append(p)\n",
    "\n",
    "q = np.argmax(np.linalg.norm(R - R[p], axis=1))\n",
    "idx.append(q)\n",
    "\n",
    "b_0 = R[q] / np.linalg.norm(R[q])\n",
    "B = np.append(B, b_0.reshape(1,-1), axis=0)\n",
    "\n",
    "L = 4\n",
    "for i in range(L):\n",
    "    r = np.argmax(np.apply_along_axis(distance, 1, R[mask(N, idx)], B))\n",
    "    if r not in idx:\n",
    "        idx.append(r)\n",
    "\n",
    "        b_r = R[r] / np.linalg.norm(R[r])\n",
    "        B = np.append(B, b_r.reshape(1,-1), axis=0)"
   ]
  },
  {
   "cell_type": "code",
   "execution_count": 25,
   "metadata": {},
   "outputs": [
    {
     "data": {
      "image/png": "[encoded data removed]",
      "text/plain": [
       "<Figure size 360x360 with 1 Axes>"
      ]
     },
     "metadata": {
      "needs_background": "light"
     },
     "output_type": "display_data"
    }
   ],
   "source": [
    "pca = PCA(n_components=2)\n",
    "document_pts = pca.fit_transform(document_embs)\n",
    "\n",
    "fig = plt.figure(figsize=(5,5))\n",
    "\n",
    "ax1 = fig.add_subplot(1,1,1)\n",
    "plot(ax1, document_pts, pca.transform(document_embs_np[idx]), add_hull=False)"
   ]
  },
  {
   "cell_type": "code",
   "execution_count": null,
   "metadata": {},
   "outputs": [],
   "source": []
  }
 ],
 "metadata": {
  "kernelspec": {
   "display_name": "Python 3",
   "language": "python",
   "name": "python3"
  },
  "language_info": {
   "codemirror_mode": {
    "name": "ipython",
    "version": 3
   },
   "file_extension": ".py",
   "mimetype": "text/x-python",
   "name": "python",
   "nbconvert_exporter": "python",
   "pygments_lexer": "ipython3",
   "version": "3.7.0"
  }
 },
 "nbformat": 4,
 "nbformat_minor": 4
}
