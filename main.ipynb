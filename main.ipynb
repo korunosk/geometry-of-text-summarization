{
 "cells": [
  {
   "cell_type": "code",
   "execution_count": 1,
   "metadata": {},
   "outputs": [
    {
     "data": {
      "text/html": [
       "        <script type=\"text/javascript\">\n",
       "        window.PlotlyConfig = {MathJaxConfig: 'local'};\n",
       "        if (window.MathJax) {MathJax.Hub.Config({SVG: {font: \"STIX-Web\"}});}\n",
       "        if (typeof require !== 'undefined') {\n",
       "        require.undef(\"plotly\");\n",
       "        requirejs.config({\n",
       "            paths: {\n",
       "                'plotly': ['https://cdn.plot.ly/plotly-latest.min']\n",
       "            }\n",
       "        });\n",
       "        require(['plotly'], function(Plotly) {\n",
       "            window._Plotly = Plotly;\n",
       "        });\n",
       "        }\n",
       "        </script>\n",
       "        "
      ]
     },
     "metadata": {},
     "output_type": "display_data"
    },
    {
     "data": {
      "text/html": [
       "        <script type=\"text/javascript\">\n",
       "        window.PlotlyConfig = {MathJaxConfig: 'local'};\n",
       "        if (window.MathJax) {MathJax.Hub.Config({SVG: {font: \"STIX-Web\"}});}\n",
       "        if (typeof require !== 'undefined') {\n",
       "        require.undef(\"plotly\");\n",
       "        requirejs.config({\n",
       "            paths: {\n",
       "                'plotly': ['https://cdn.plot.ly/plotly-latest.min']\n",
       "            }\n",
       "        });\n",
       "        require(['plotly'], function(Plotly) {\n",
       "            window._Plotly = Plotly;\n",
       "        });\n",
       "        }\n",
       "        </script>\n",
       "        "
      ]
     },
     "metadata": {},
     "output_type": "display_data"
    }
   ],
   "source": [
    "import sys\n",
    "import os\n",
    "import time\n",
    "import json\n",
    "import numpy as np\n",
    "from scipy.stats import pearsonr, spearmanr, kendalltau\n",
    "from scipy.spatial import ConvexHull\n",
    "from scipy.spatial.qhull import QhullError\n",
    "import pandas as pd\n",
    "from operator import itemgetter\n",
    "from itertools import chain\n",
    "from collections import Counter\n",
    "from tqdm.notebook import tqdm\n",
    "from ipywidgets import interact\n",
    "from plotly.offline import init_notebook_mode, iplot\n",
    "import cufflinks as cf\n",
    "init_notebook_mode(connected=True)\n",
    "cf.go_offline()\n",
    "\n",
    "from sklearn.decomposition import PCA\n",
    "from sklearn.manifold import TSNE\n",
    "from sklearn.preprocessing import normalize\n",
    "\n",
    "import string\n",
    "from nltk.corpus import stopwords\n",
    "from transformers import BertTokenizer\n",
    "\n",
    "import matplotlib.pyplot as plt\n",
    "\n",
    "from bert_serving.client import BertClient\n",
    "\n",
    "import torch\n",
    "from torch.utils.tensorboard import SummaryWriter\n",
    "\n",
    "from config import *"
   ]
  },
  {
   "cell_type": "code",
   "execution_count": 2,
   "metadata": {},
   "outputs": [],
   "source": [
    "INVALID_TOKENS = set(stopwords.words('english') + list(string.punctuation))\n",
    "TOKENIZER = BertTokenizer.from_pretrained('bert-base-uncased')"
   ]
  },
  {
   "cell_type": "markdown",
   "metadata": {},
   "source": [
    "### Visualization"
   ]
  },
  {
   "cell_type": "code",
   "execution_count": 3,
   "metadata": {},
   "outputs": [],
   "source": [
    "def make_pytorch_projector(log_dir, mat, labels=None):\n",
    "    '''Exports PyTorch projector'''\n",
    "    writer = SummaryWriter(log_dir)\n",
    "    writer.add_embedding(mat, metadata=labels)\n",
    "    writer.close()\n",
    "\n",
    "def project_pca(document_embs, summary_embs):\n",
    "    pca = PCA(n_components=2)\n",
    "    document_pts = pca.fit_transform(document_embs)\n",
    "    summary_pts = list(map(pca.transform, summary_embs))\n",
    "    return document_pts, summary_pts\n",
    "\n",
    "def project_tsne(document_embs, summary_embs):\n",
    "    n = np.cumsum([0] + list(map(len,summary_embs)))\n",
    "    embs = document_embs + list(chain(*summary_embs))\n",
    "    tsne = TSNE(n_iter=3000, perplexity=30, verbose=1)\n",
    "    pts = tsne.fit_transform(embs)\n",
    "    return pts[:len(document_embs)], [pts[i:j] for i,j in zip(n[:-1], n[1:])]"
   ]
  },
  {
   "cell_type": "markdown",
   "metadata": {},
   "source": [
    "### Preprocessing"
   ]
  },
  {
   "cell_type": "code",
   "execution_count": 4,
   "metadata": {},
   "outputs": [],
   "source": [
    "def valid_tokens(sentence):\n",
    "    '''Outputs valid tokens in a sentence.\n",
    "    \n",
    "    Input:  list of tokens\n",
    "    Output: list of valid tokens\n",
    "    '''\n",
    "    return list(filter(lambda token: token not in INVALID_TOKENS, sentence))\n",
    "\n",
    "def tokenize_document(document):\n",
    "    '''Tokenizes every sentence in a document.\n",
    "    \n",
    "    Input:  list of str\n",
    "    Output: list of list of tokens\n",
    "    '''\n",
    "    return list(map(TOKENIZER.tokenize, document))\n",
    "\n",
    "def filter_document(document):\n",
    "    '''Filters every sentence in a document (extract valid tokens).\n",
    "    \n",
    "    Input:  list of list of tokens\n",
    "    Output: list of list of valid tokens\n",
    "    '''\n",
    "    return list(map(valid_tokens, document))\n",
    "\n",
    "def preprocess(document):\n",
    "    '''Preprocesses a list of sentences.\n",
    "    \n",
    "    Input:  list of str\n",
    "    Output: list of list of valid tokens\n",
    "    '''\n",
    "    return filter_document(tokenize_document(document))"
   ]
  },
  {
   "cell_type": "markdown",
   "metadata": {},
   "source": [
    "### Metrics"
   ]
  },
  {
   "cell_type": "code",
   "execution_count": 5,
   "metadata": {},
   "outputs": [],
   "source": [
    "def number_of_repeating_words(summary):\n",
    "    '''Counts the number of repeating words in a summary'''\n",
    "    cnt = Counter(chain(*preprocess(summary)))\n",
    "    return len([cnt[k] for k in cnt if cnt[k] > 1])\n",
    "\n",
    "def distance_to_subspace(v, S):\n",
    "    '''Calculates a distance from vector to subspace'''\n",
    "    return np.linalg.norm(v - (v @ S.T) @ S)\n",
    "\n",
    "def average_distance_between_vectors(S):\n",
    "    '''Calculates the average distance between vectors'''\n",
    "    return np.mean([np.mean(np.linalg.norm(si - S, axis=1)) for si in S])\n",
    "\n",
    "def naive(documents, summaries):\n",
    "    scores = []\n",
    "    for summary in summaries:\n",
    "        scores.append(number_of_repeating_words(summary))\n",
    "    return np.array(scores)\n",
    "\n",
    "def average_distance(document_embs, summary_embs):\n",
    "    scores = []\n",
    "    for summary in summary_embs:\n",
    "        S = np.array(summary)\n",
    "        scores.append(average_distance_between_vectors(S))\n",
    "    return np.array(scores)\n",
    "\n",
    "def semantic_volume(document_embs, summary_embs, normalize=False):\n",
    "    scores = []\n",
    "    document_hull = ConvexHull(document_embs)\n",
    "    for summary in summary_embs:\n",
    "        try:\n",
    "            summary_hull = ConvexHull(summary)\n",
    "            scores.append(summary_hull.volume / (document_hull.volume if normalize else 1))\n",
    "        except QhullError: # Not enough points\n",
    "            scores.append(0)\n",
    "    return np.array(scores)"
   ]
  },
  {
   "cell_type": "markdown",
   "metadata": {},
   "source": [
    "# Main"
   ]
  },
  {
   "cell_type": "markdown",
   "metadata": {},
   "source": [
    "## Use-case\n",
    "\n",
    "1. Take the documents, summaries, and pyramid scores for one topic\n",
    "2. Embed the documents and summaries (or load embeddings) using bert-as-service (unmodif)\n",
    "3. Calculate score for summaries\n",
    "4. Compute correlation with human judgements\n",
    "5. Export TensorBoard projector"
   ]
  },
  {
   "cell_type": "code",
   "execution_count": 6,
   "metadata": {},
   "outputs": [],
   "source": [
    "DATASET = DATASETS[0]\n",
    "TOPIC = 'D0841'"
   ]
  },
  {
   "cell_type": "markdown",
   "metadata": {},
   "source": [
    "## Get embeddings"
   ]
  },
  {
   "cell_type": "code",
   "execution_count": 7,
   "metadata": {},
   "outputs": [],
   "source": [
    "# bc = BertClient(output_fmt='list') # The tokenizer might be different from the Huggingface's one"
   ]
  },
  {
   "cell_type": "code",
   "execution_count": 8,
   "metadata": {},
   "outputs": [
    {
     "data": {
      "text/plain": [
       "dict_keys(['D0841', 'D0804', 'D0802', 'D0809', 'D0819', 'D0825', 'D0828', 'D0826', 'D0843', 'D0829', 'D0813', 'D0807', 'D0812', 'D0820', 'D0835', 'D0823', 'D0847', 'D0848', 'D0810', 'D0822', 'D0845', 'D0844', 'D0839', 'D0814', 'D0824', 'D0821', 'D0827', 'D0846', 'D0818', 'D0834', 'D0805', 'D0817', 'D0831', 'D0815', 'D0836', 'D0806', 'D0808', 'D0837', 'D0803', 'D0830', 'D0838', 'D0840', 'D0842', 'D0832', 'D0816', 'D0801', 'D0833', 'D0811'])"
      ]
     },
     "execution_count": 8,
     "metadata": {},
     "output_type": "execute_result"
    }
   ],
   "source": [
    "with open(os.path.join(DATA_DIR, DATASET + '.json')) as fp:\n",
    "    tac = json.load(fp)\n",
    "tac.keys()"
   ]
  },
  {
   "cell_type": "code",
   "execution_count": 9,
   "metadata": {},
   "outputs": [],
   "source": [
    "topic = tac[TOPIC]\n",
    "\n",
    "documents = topic['documents']\n",
    "annotations = topic['annotations']\n",
    "\n",
    "summaries = list(map(itemgetter('text'), annotations))\n",
    "pyr_scores = list(map(itemgetter('pyr_score'), annotations))"
   ]
  },
  {
   "cell_type": "code",
   "execution_count": 10,
   "metadata": {},
   "outputs": [],
   "source": [
    "# document_embs = []\n",
    "# for document in tqdm(documents):\n",
    "#     document_embs.extend(bc.encode(document))"
   ]
  },
  {
   "cell_type": "code",
   "execution_count": 11,
   "metadata": {},
   "outputs": [],
   "source": [
    "# summary_embs = []\n",
    "# for summary in tqdm(summaries):\n",
    "#     summary_embs.append(bc.encode(list(filter(len, summary)))) # Some sents are empty. Why?"
   ]
  },
  {
   "cell_type": "markdown",
   "metadata": {},
   "source": [
    "## Scores"
   ]
  },
  {
   "cell_type": "code",
   "execution_count": 12,
   "metadata": {},
   "outputs": [],
   "source": [
    "# naive_scores = naive(documents, summaries)\n",
    "# kendalltau(pyr_scores, naive_scores)[0]"
   ]
  },
  {
   "cell_type": "code",
   "execution_count": 13,
   "metadata": {},
   "outputs": [],
   "source": [
    "# semantic_volume_scores = semantic_volume(document_embs, summary_embs)\n",
    "# kendalltau(pyr_scores, semantic_volume_scores)[0]"
   ]
  },
  {
   "cell_type": "markdown",
   "metadata": {},
   "source": [
    "## Load embeddings"
   ]
  },
  {
   "cell_type": "code",
   "execution_count": 14,
   "metadata": {},
   "outputs": [
    {
     "data": {
      "text/plain": [
       "dict_keys(['D0841', 'D0804', 'D0802', 'D0809', 'D0819', 'D0825', 'D0828', 'D0826', 'D0843', 'D0829', 'D0813', 'D0807', 'D0812', 'D0820', 'D0835', 'D0823', 'D0847', 'D0848', 'D0810', 'D0822', 'D0845', 'D0844', 'D0839', 'D0814', 'D0824', 'D0821', 'D0827', 'D0846', 'D0818', 'D0834', 'D0805', 'D0817', 'D0831', 'D0815', 'D0836', 'D0806', 'D0808', 'D0837', 'D0803', 'D0830', 'D0838', 'D0840', 'D0842', 'D0832', 'D0816', 'D0801', 'D0833', 'D0811'])"
      ]
     },
     "execution_count": 14,
     "metadata": {},
     "output_type": "execute_result"
    }
   ],
   "source": [
    "with open(os.path.join(DATA_DIR, DATASET + '_encoded.json')) as fp:\n",
    "    tac = json.load(fp)\n",
    "tac.keys()"
   ]
  },
  {
   "cell_type": "markdown",
   "metadata": {},
   "source": [
    "## Scores"
   ]
  },
  {
   "cell_type": "code",
   "execution_count": 15,
   "metadata": {},
   "outputs": [],
   "source": [
    "def remove_empty(summary_embs, pyr_scores):\n",
    "    idx = np.nonzero(list(map(len, summary_embs)))[0]\n",
    "    return np.array(summary_embs)[idx].tolist(), np.array(pyr_scores)[idx].tolist()\n",
    "\n",
    "def execute(experiment):\n",
    "    scores = []\n",
    "\n",
    "    for topic_id, topic in tac.items():\n",
    "        document_embs = list(chain(*topic['documents']))\n",
    "        annotations = topic['annotations']\n",
    "\n",
    "        summary_embs = list(map(itemgetter('embedding'), annotations))\n",
    "        pyr_scores = list(map(itemgetter('pyr_score'), annotations))\n",
    "        \n",
    "        summary_embs, pyr_scores = remove_empty(summary_embs, pyr_scores)\n",
    "        \n",
    "        try:\n",
    "            scores.append(experiment(document_embs, summary_embs, pyr_scores))\n",
    "        except Exception as e:\n",
    "            print(f'=== {topic_id} ===')\n",
    "            print(e, '\\n')\n",
    "    \n",
    "    return scores"
   ]
  },
  {
   "cell_type": "code",
   "execution_count": 16,
   "metadata": {},
   "outputs": [],
   "source": [
    "def experiment_average_distance(document_embs, summary_embs, pyr_scores):\n",
    "    naive_scores = average_distance(document_embs, summary_embs)\n",
    "    return kendalltau(pyr_scores, naive_scores)[0]\n",
    "\n",
    "def experiment_semantic_volume(document_embs, summary_embs, pyr_scores):\n",
    "    document_pts, summary_pts = project_pca(document_embs, summary_embs)\n",
    "    semantic_volume_scores = semantic_volume(document_pts, summary_pts)\n",
    "    return kendalltau(pyr_scores, semantic_volume_scores)[0]\n",
    "\n",
    "def experiment_semantic_volume_norm(document_embs, summary_embs, pyr_scores):\n",
    "    document_pts, summary_pts = project_pca(document_embs, summary_embs)\n",
    "    semantic_volume_scores = semantic_volume(document_pts, summary_pts, normalize=True)\n",
    "    return kendalltau(pyr_scores, semantic_volume_scores)[0]"
   ]
  },
  {
   "cell_type": "code",
   "execution_count": 17,
   "metadata": {},
   "outputs": [
    {
     "name": "stdout",
     "output_type": "stream",
     "text": [
      "=== Experiments ===\n",
      "\n",
      "   Executing \"Average distance\"\n",
      "   Executing \"Semantic volume\"\n",
      "   Executing \"Semantic volume (norm)\"\n",
      "\n",
      "=== Results ===\n",
      "\n",
      "   Average distance:          -0.015656\n",
      "   Semantic volume:           0.014700\n",
      "   Semantic volume (norm):    0.014700\n",
      "\n"
     ]
    }
   ],
   "source": [
    "print('=== Experiments ===\\n')\n",
    "s = ''\n",
    "\n",
    "print('   Executing \"Average distance\"')\n",
    "scores = execute(experiment_average_distance)\n",
    "s += f'   Average distance:          {np.mean(scores):.6f}\\n'\n",
    "\n",
    "print('   Executing \"Semantic volume\"')\n",
    "scores = execute(experiment_semantic_volume)\n",
    "s += f'   Semantic volume:           {np.mean(scores):.6f}\\n'\n",
    "\n",
    "print('   Executing \"Semantic volume (norm)\"')\n",
    "scores = execute(experiment_semantic_volume_norm)\n",
    "s += f'   Semantic volume (norm):    {np.mean(scores):.6f}\\n'\n",
    "\n",
    "print('\\n=== Results ===\\n')\n",
    "print(s)"
   ]
  },
  {
   "cell_type": "markdown",
   "metadata": {},
   "source": [
    "## Plot"
   ]
  },
  {
   "cell_type": "code",
   "execution_count": 18,
   "metadata": {},
   "outputs": [],
   "source": [
    "topic = tac[TOPIC]\n",
    "\n",
    "document_embs = list(chain(*topic['documents']))\n",
    "annotations = topic['annotations']\n",
    "\n",
    "summary_embs = list(map(itemgetter('embedding'), annotations))\n",
    "pyr_scores = list(map(itemgetter('pyr_score'), annotations))"
   ]
  },
  {
   "cell_type": "code",
   "execution_count": 19,
   "metadata": {},
   "outputs": [],
   "source": [
    "def plt_hull(ax, pts, c):\n",
    "    hull = ConvexHull(pts)\n",
    "    idx = np.concatenate((hull.vertices, hull.vertices[:1]))\n",
    "    ax.plot(pts[idx,0], pts[idx,1], f'{c}--', lw=2)\n",
    "    \n",
    "def plot(ax, document_pts, summary_pts, add_hull=True):\n",
    "    ax.scatter(document_pts[:,0], document_pts[:,1], c='b', alpha=0.25 if add_hull else 1)\n",
    "    ax.scatter(summary_pts[:,0], summary_pts[:,1], c='r', alpha=0.25 if add_hull else 1)\n",
    "    if add_hull:\n",
    "        plt_hull(ax, document_pts, 'b')\n",
    "        plt_hull(ax, summary_pts, 'r')"
   ]
  },
  {
   "cell_type": "code",
   "execution_count": 20,
   "metadata": {},
   "outputs": [],
   "source": [
    "document_embs_np = np.array(document_embs)\n",
    "summary_embs_np = np.array(summary_embs)\n",
    "pyr_scores_np = np.array(pyr_scores)"
   ]
  },
  {
   "cell_type": "code",
   "execution_count": 21,
   "metadata": {},
   "outputs": [],
   "source": [
    "m = np.argsort(-pyr_scores_np) # Holds sorted indices of the pyramid scores"
   ]
  },
  {
   "cell_type": "markdown",
   "metadata": {},
   "source": [
    "### TensorBoard"
   ]
  },
  {
   "cell_type": "code",
   "execution_count": 22,
   "metadata": {},
   "outputs": [],
   "source": [
    "t = int(time.time())\n",
    "\n",
    "data = torch.tensor(document_embs + summary_embs[m[0]])\n",
    "labels = [0] * len(document_embs) + [1] * len(summary_embs[m[0]])\n",
    "make_pytorch_projector(os.path.join(RUNS_DIR, f'geometry_sumarization_best_{t}'), data, labels)\n",
    "\n",
    "data = torch.tensor(document_embs + list(chain(*[summary_embs[m[i]] for i in range(len(m))])))\n",
    "labels = [0] * len(document_embs) + list(chain(*[[i+1] * len(summary_embs[m[i]]) for i in range(len(m))]))\n",
    "make_pytorch_projector(os.path.join(RUNS_DIR, f'geometry_sumarization_all_{t}'), data, labels)"
   ]
  },
  {
   "cell_type": "markdown",
   "metadata": {},
   "source": [
    "### Matplotlib + PCA"
   ]
  },
  {
   "cell_type": "code",
   "execution_count": 23,
   "metadata": {},
   "outputs": [
    {
     "data": {
      "image/png": "[encoded data removed]",
      "text/plain": [
       "<Figure size 720x360 with 2 Axes>"
      ]
     },
     "metadata": {
      "needs_background": "light"
     },
     "output_type": "display_data"
    }
   ],
   "source": [
    "document_pts, summary_pts = project_pca(document_embs, summary_embs_np[m])\n",
    "\n",
    "fig = plt.figure(figsize=(10,5))\n",
    "\n",
    "ax1 = fig.add_subplot(1,2,1)\n",
    "plot(ax1, document_pts, summary_pts[0], add_hull=True)\n",
    "\n",
    "ax2 = fig.add_subplot(1,2,2)\n",
    "plot(ax2, document_pts, summary_pts[1], add_hull=True)"
   ]
  },
  {
   "cell_type": "markdown",
   "metadata": {},
   "source": [
    "### Matplotlib + t-SNE"
   ]
  },
  {
   "cell_type": "code",
   "execution_count": 24,
   "metadata": {},
   "outputs": [
    {
     "name": "stdout",
     "output_type": "stream",
     "text": [
      "[t-SNE] Computing 91 nearest neighbors...\n",
      "[t-SNE] Indexed 462 samples in 0.012s...\n",
      "[t-SNE] Computed neighbors for 462 samples in 0.231s...\n",
      "[t-SNE] Computed conditional probabilities for sample 462 / 462\n",
      "[t-SNE] Mean sigma: 2.870281\n",
      "[t-SNE] KL divergence after 250 iterations with early exaggeration: 69.516319\n",
      "[t-SNE] KL divergence after 1850 iterations: 0.736734\n"
     ]
    },
    {
     "data": {
      "image/png": "[encoded data removed]",
      "text/plain": [
       "<Figure size 720x360 with 2 Axes>"
      ]
     },
     "metadata": {
      "needs_background": "light"
     },
     "output_type": "display_data"
    }
   ],
   "source": [
    "document_pts, summary_pts = project_tsne(document_embs, summary_embs_np[m])\n",
    "\n",
    "fig = plt.figure(figsize=(10,5))\n",
    "\n",
    "ax1 = fig.add_subplot(1,2,1)\n",
    "plot(ax1, document_pts, summary_pts[0], add_hull=True)\n",
    "\n",
    "ax2 = fig.add_subplot(1,2,2)\n",
    "plot(ax2, document_pts, summary_pts[1], add_hull=True)"
   ]
  },
  {
   "cell_type": "markdown",
   "metadata": {},
   "source": [
    "## Interactive plot"
   ]
  },
  {
   "cell_type": "markdown",
   "metadata": {},
   "source": [
    "### Plotly + PCA"
   ]
  },
  {
   "cell_type": "code",
   "execution_count": 25,
   "metadata": {},
   "outputs": [],
   "source": [
    "document_pts, summary_pts = project_pca(document_embs, summary_embs_np[m])\n",
    "\n",
    "def make_df(pts, label):\n",
    "    df = pd.DataFrame(pts, columns=['pca-0','pca-1'])\n",
    "    df['label'] = label\n",
    "    return df\n",
    "\n",
    "df = pd.concat([make_df(document_pts, 'doc')] + \\\n",
    "               [make_df(summary_pts[i], f'sum-{i+1}') for i in range(len(summary_pts))], ignore_index=True)"
   ]
  },
  {
   "cell_type": "code",
   "execution_count": 26,
   "metadata": {},
   "outputs": [
    {
     "data": {
      "application/vnd.jupyter.widget-view+json": {
       "model_id": "02d6f3893e514255a7fff9589301ab6d",
       "version_major": 2,
       "version_minor": 0
      },
      "text/plain": [
       "interactive(children=(Dropdown(description='label', options=('sum-1', 'sum-2', 'sum-3', 'sum-4', 'sum-5', 'sum…"
      ]
     },
     "metadata": {},
     "output_type": "display_data"
    }
   ],
   "source": [
    "@interact\n",
    "def scatter_plot(label=df.label.unique()[1:]):\n",
    "    df[df.label.isin(('doc',label))].iplot(kind='scatter',\n",
    "                                           title=DATASET + ' - ' + TOPIC,\n",
    "                                           x='pca-0',y='pca-1',\n",
    "                                           mode='markers',\n",
    "                                           categories='label',\n",
    "                                           theme='solar',\n",
    "                                           colorscale='set1')"
   ]
  },
  {
   "cell_type": "markdown",
   "metadata": {},
   "source": [
    "# Misc"
   ]
  },
  {
   "cell_type": "markdown",
   "metadata": {},
   "source": [
    "## Extractive Summarization by Maximizing Semantic Volume\n",
    "\n",
    "Paper: https://www.aclweb.org/anthology/D15-1228.pdf"
   ]
  },
  {
   "cell_type": "code",
   "execution_count": 27,
   "metadata": {},
   "outputs": [],
   "source": [
    "def mask(N, idx):\n",
    "    mask = np.ones(N, dtype=bool)\n",
    "    mask[idx] = False\n",
    "    return mask\n",
    "\n",
    "N = len(document_embs_np)\n",
    "\n",
    "R = document_embs_np\n",
    "B = np.ndarray(shape=(0,R.shape[1]))\n",
    "idx = []\n",
    "\n",
    "c = R.sum(axis=0) / N\n",
    "\n",
    "p = np.argmax(np.linalg.norm(R - c, axis=1))\n",
    "idx.append(p)\n",
    "\n",
    "q = np.argmax(np.linalg.norm(R - R[p], axis=1))\n",
    "idx.append(q)\n",
    "\n",
    "b_0 = R[q] / np.linalg.norm(R[q])\n",
    "B = np.append(B, b_0.reshape(1,-1), axis=0)\n",
    "\n",
    "L = 4\n",
    "for i in range(L):\n",
    "    r = np.argmax(np.apply_along_axis(distance_to_subspace, 1, R[mask(N, idx)], B))\n",
    "    if r not in idx:\n",
    "        idx.append(r)\n",
    "\n",
    "        b_r = R[r] / np.linalg.norm(R[r])\n",
    "        B = np.append(B, b_r.reshape(1,-1), axis=0)"
   ]
  },
  {
   "cell_type": "code",
   "execution_count": 28,
   "metadata": {},
   "outputs": [
    {
     "data": {
      "image/png": "[encoded data removed]",
      "text/plain": [
       "<Figure size 360x360 with 1 Axes>"
      ]
     },
     "metadata": {
      "needs_background": "light"
     },
     "output_type": "display_data"
    }
   ],
   "source": [
    "pca = PCA(n_components=2)\n",
    "document_pts = pca.fit_transform(document_embs)\n",
    "\n",
    "fig = plt.figure(figsize=(5,5))\n",
    "\n",
    "ax1 = fig.add_subplot(1,1,1)\n",
    "plot(ax1, document_pts, pca.transform(document_embs_np[idx]), add_hull=True)"
   ]
  },
  {
   "cell_type": "code",
   "execution_count": null,
   "metadata": {},
   "outputs": [],
   "source": []
  }
 ],
 "metadata": {
  "kernelspec": {
   "display_name": "Python 3",
   "language": "python",
   "name": "python3"
  },
  "language_info": {
   "codemirror_mode": {
    "name": "ipython",
    "version": 3
   },
   "file_extension": ".py",
   "mimetype": "text/x-python",
   "name": "python",
   "nbconvert_exporter": "python",
   "pygments_lexer": "ipython3",
   "version": "3.7.0"
  }
 },
 "nbformat": 4,
 "nbformat_minor": 4
}
