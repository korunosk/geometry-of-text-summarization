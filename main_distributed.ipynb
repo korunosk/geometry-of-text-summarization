{
 "cells": [
  {
   "cell_type": "code",
   "execution_count": 1,
   "metadata": {},
   "outputs": [],
   "source": [
    "import os\n",
    "import json\n",
    "import numpy as np\n",
    "from scipy.stats import kendalltau\n",
    "from scipy.spatial import ConvexHull\n",
    "from scipy.spatial.qhull import QhullError\n",
    "from scipy.spatial.distance import cdist, pdist\n",
    "from operator import itemgetter\n",
    "from itertools import chain\n",
    "from pyemd import emd_samples\n",
    "from src.lexrank import degree_centrality_scores\n",
    "\n",
    "from sklearn.decomposition import PCA\n",
    "\n",
    "import matplotlib.pyplot as plt\n",
    "import seaborn as sns\n",
    "sns.set()\n",
    "\n",
    "import ray\n",
    "\n",
    "from config import *\n",
    "from helpers import *\n",
    "from visualization import *"
   ]
  },
  {
   "cell_type": "code",
   "execution_count": 2,
   "metadata": {},
   "outputs": [],
   "source": [
    "DATASET = DATASETS[0]\n",
    "IN_DATA_DIR = f'/scratch/korunosk/data'\n",
    "OUT_DATA_DIR = f'/scratch/korunosk/data/GloVe/{DATASET}'"
   ]
  },
  {
   "cell_type": "code",
   "execution_count": 3,
   "metadata": {},
   "outputs": [
    {
     "name": "stderr",
     "output_type": "stream",
     "text": [
      "2020-03-10 00:29:57,892\tWARNING services.py:586 -- setpgrp failed, processes may not be cleaned up properly: [Errno 1] Operation not permitted.\n",
      "2020-03-10 00:29:57,899\tINFO resource_spec.py:212 -- Starting Ray with 32.91 GiB memory available for workers and up to 16.48 GiB for objects. You can adjust these settings with ray.init(memory=<bytes>, object_store_memory=<bytes>).\n",
      "2020-03-10 00:29:58,303\tINFO services.py:1078 -- View the Ray dashboard at \u001b[1m\u001b[32mlocalhost:8268\u001b[39m\u001b[22m\n"
     ]
    },
    {
     "data": {
      "text/plain": [
       "{'node_ip_address': '10.90.36.41',\n",
       " 'redis_address': '10.90.36.41:46407',\n",
       " 'object_store_address': '/tmp/ray/session_2020-03-10_00-29-57_891410_91971/sockets/plasma_store',\n",
       " 'raylet_socket_name': '/tmp/ray/session_2020-03-10_00-29-57_891410_91971/sockets/raylet',\n",
       " 'webui_url': 'localhost:8268',\n",
       " 'session_dir': '/tmp/ray/session_2020-03-10_00-29-57_891410_91971'}"
      ]
     },
     "execution_count": 3,
     "metadata": {},
     "output_type": "execute_result"
    }
   ],
   "source": [
    "ray.init(num_cpus=40)"
   ]
  },
  {
   "cell_type": "code",
   "execution_count": 4,
   "metadata": {},
   "outputs": [],
   "source": [
    "@ray.remote\n",
    "def load_and_extract(topic_id):\n",
    "    topic = load_data(OUT_DATA_DIR, topic_id, encoded=True)\n",
    "    return extract(topic)"
   ]
  },
  {
   "cell_type": "code",
   "execution_count": 5,
   "metadata": {},
   "outputs": [],
   "source": [
    "def execute_experiment(tac, experiment):\n",
    "    data   = [ load_and_extract.remote(topic_id) for topic_id in tac ]\n",
    "    scores = [ experiment.remote(d) for d in data ]\n",
    "\n",
    "    return np.array(ray.get(scores))"
   ]
  },
  {
   "cell_type": "code",
   "execution_count": 6,
   "metadata": {},
   "outputs": [],
   "source": [
    "@ray.remote\n",
    "def experiment_average_pairwise_distance(data):\n",
    "    document_embs, summary_embs, indices, pyr_scores, summary_ids = data\n",
    "    \n",
    "    def average_pairwise_distance(summary_embs: np.array) -> float:\n",
    "        '''Calculates the average pairwise distance between summary embeddings'''\n",
    "        return np.mean(cdist(summary_embs, summary_embs, metric='euclidean'))\n",
    "    \n",
    "    metric = lambda i: average_pairwise_distance(summary_embs[i[0]:i[1]])\n",
    "    \n",
    "    return kendalltau(pyr_scores, np.array([metric(i) for i in indices]))[0]\n",
    "\n",
    "@ray.remote\n",
    "def experiment_semantic_volume(data):\n",
    "    document_embs, summary_embs, indices, pyr_scores, summary_ids = data\n",
    "    \n",
    "    embs = np.concatenate((document_embs, summary_embs))\n",
    "    t = document_embs.shape[0]\n",
    "    pca = PCA(n_components=2, random_state=42)\n",
    "    pts = pca.fit_transform(embs)\n",
    "    document_pts, summary_pts = pts[:t], pts[t:]\n",
    "    \n",
    "    def semantic_volume(summary_embs: np.array) -> float:\n",
    "        '''Calculates the semantic volume of the summary embeddings'''\n",
    "        try:\n",
    "            return ConvexHull(summary_embs).volume\n",
    "        except QhullError as e:\n",
    "            return 0\n",
    "    \n",
    "    metric = lambda i: semantic_volume(summary_pts[i[0]:i[1]])\n",
    "    \n",
    "    return kendalltau(pyr_scores, np.array([metric(i) for i in indices]))[0]\n",
    "\n",
    "@ray.remote\n",
    "def experiment_semantic_spread(data):\n",
    "    document_embs, summary_embs, indices, pyr_scores, summary_ids = data\n",
    "\n",
    "    def semantic_spread(summary_embs: np.array) -> float:\n",
    "        '''Calculates the semantic spread of the summary embeddings'''\n",
    "        return np.linalg.det(summary_embs @ summary_embs.T)\n",
    "\n",
    "    metric = lambda i: semantic_spread(summary_embs[i[0]:i[1]])\n",
    "    \n",
    "    return kendalltau(pyr_scores, np.array([metric(i) for i in indices]))[0]\n",
    "\n",
    "@ray.remote\n",
    "def experiment_earth_mover_distance(data):\n",
    "    document_embs, summary_embs, indices, pyr_scores, summary_ids = data\n",
    "    \n",
    "    def earth_mover_distance(document_embs: np.array, summary_embs: np.array) -> float:\n",
    "        '''Calculates the Earth Mover distance between the document and summary distributions.'''\n",
    "        return emd_samples(document_embs, summary_embs)\n",
    "    \n",
    "    metric = lambda i: earth_mover_distance(document_embs, summary_embs[i[0]:i[1]])\n",
    "    \n",
    "    return kendalltau(pyr_scores, np.array([metric(i) for i in indices]))[0]\n",
    "\n",
    "@ray.remote\n",
    "def experiment_lex_rank(data):\n",
    "    document_embs, summary_embs, indices, pyr_scores, summary_ids = data\n",
    "    \n",
    "    lr_scores = degree_centrality_scores(cdist(document_embs, document_embs, metric='cosine'))\n",
    "    \n",
    "    def lex_rank(document_embs: np.array, summary_embs: np.array, lr_scores: np.array) -> float:\n",
    "        '''Calculates the LexRank score of the summary based on the documents LexRank score.'''\n",
    "        return np.sum(lr_scores[np.argmax(cdist(summary_embs, document_embs, metric='cosine'), axis=1)])\n",
    "    \n",
    "    metric = lambda i: lex_rank(document_embs, summary_embs[i[0]:i[1]], lr_scores)\n",
    "    \n",
    "    return kendalltau(pyr_scores, np.array([metric(i) for i in indices]))[0]"
   ]
  },
  {
   "cell_type": "code",
   "execution_count": 7,
   "metadata": {},
   "outputs": [
    {
     "name": "stdout",
     "output_type": "stream",
     "text": [
      "=== Experiments TAC2008 ===\n",
      "\n",
      "   Executing \"Average pairwise distance\"\n",
      "   Executing \"Semantic volume\"\n",
      "   Executing \"Semantic spread\"\n",
      "   Executing \"Earth Mover distance\"\n",
      "\n",
      "=== Results ===\n",
      "\n",
      "   Average pairwise distance      0.04787\n",
      "   Semantic volume                0.1244\n",
      "   Semantic spread                -0.03973\n",
      "   Earth Mover distance           -0.02333\n",
      "\n"
     ]
    }
   ],
   "source": [
    "scores = [\n",
    "    {\n",
    "        'label': 'Average pairwise distance',\n",
    "        'experiment': experiment_average_pairwise_distance \n",
    "    },\n",
    "    {\n",
    "        'label': 'Semantic volume',\n",
    "        'experiment': experiment_semantic_volume \n",
    "    },\n",
    "    {\n",
    "        'label': 'Semantic spread',\n",
    "        'experiment': experiment_semantic_spread \n",
    "    },\n",
    "    {\n",
    "        'label': 'Earth Mover distance',\n",
    "        'experiment': experiment_earth_mover_distance \n",
    "    },\n",
    "#     {\n",
    "#         'label': 'LexRank',\n",
    "#         'experiment': experiment_lex_rank \n",
    "#     },\n",
    "]\n",
    "\n",
    "ptr = ''\n",
    "print(f'=== Experiments {DATASET} ===\\n')\n",
    "for i,s in enumerate(scores):\n",
    "    print('   Executing \"{}\"'.format(s['label']))\n",
    "    scores[i]['values'] = execute_experiment(TOPICS[DATASET], s['experiment'])\n",
    "    ptr += '   {:30} {:.4}\\n'.format(s['label'], np.mean(scores[i]['values']))\n",
    "    del s['experiment']\n",
    "print('\\n=== Results ===\\n')\n",
    "print(ptr)"
   ]
  },
  {
   "cell_type": "code",
   "execution_count": 8,
   "metadata": {},
   "outputs": [
    {
     "data": {
      "image/png": "[encoded data removed]",
      "text/plain": [
       "<Figure size 1440x360 with 1 Axes>"
      ]
     },
     "metadata": {},
     "output_type": "display_data"
    }
   ],
   "source": [
    "fig = plt.figure(figsize=(20,5))\n",
    "fig.suptitle(DATASET)\n",
    "ax = fig.add_subplot(1,1,1)\n",
    "plot_corr(ax, TOPICS[DATASET], scores[:-1])\n",
    "plt.show()"
   ]
  },
  {
   "cell_type": "code",
   "execution_count": 8,
   "metadata": {},
   "outputs": [],
   "source": [
    "ray.shutdown()"
   ]
  },
  {
   "cell_type": "code",
   "execution_count": null,
   "metadata": {},
   "outputs": [],
   "source": []
  },
  {
   "cell_type": "markdown",
   "metadata": {},
   "source": [
    "## Export GloVe"
   ]
  },
  {
   "cell_type": "code",
   "execution_count": 13,
   "metadata": {},
   "outputs": [],
   "source": [
    "from gensim.parsing.preprocessing import *\n",
    "filters = [\n",
    "    lambda s: s.lower(),\n",
    "    strip_punctuation,\n",
    "    strip_multiple_whitespaces,\n",
    "    remove_stopwords,\n",
    "]"
   ]
  },
  {
   "cell_type": "code",
   "execution_count": 14,
   "metadata": {},
   "outputs": [],
   "source": [
    "with open('/scratch/korunosk/data/GloVe/glove.6B.50d.txt', mode='r') as fp:\n",
    "    embs = {}\n",
    "    for line in fp.readlines():\n",
    "        tokens = line.strip().split()\n",
    "        embs[tokens[0]] = list(map(float, tokens[1:]))"
   ]
  },
  {
   "cell_type": "code",
   "execution_count": 15,
   "metadata": {},
   "outputs": [],
   "source": [
    "def encode_words(documents):\n",
    "    def encode(sentence):\n",
    "        words = preprocess_string(sentence, filters)\n",
    "        return [ embs[w] for w in words if w in embs ]\n",
    "    document_embs = []\n",
    "    for document in documents:\n",
    "        sentence_embs = []\n",
    "        for sentence in document:\n",
    "            sentence_embs.extend(encode(sentence))\n",
    "        document_embs.append(sentence_embs)\n",
    "    return document_embs"
   ]
  },
  {
   "cell_type": "code",
   "execution_count": 16,
   "metadata": {},
   "outputs": [
    {
     "name": "stdout",
     "output_type": "stream",
     "text": [
      "TAC2008\n",
      "   D0841\n",
      "   D0804\n",
      "   D0802\n",
      "   D0809\n",
      "   D0819\n",
      "   D0825\n",
      "   D0828\n",
      "   D0826\n",
      "   D0843\n",
      "   D0829\n",
      "   D0813\n",
      "   D0807\n",
      "   D0812\n",
      "   D0820\n",
      "   D0835\n",
      "   D0823\n",
      "   D0847\n",
      "   D0848\n",
      "   D0810\n",
      "   D0822\n",
      "   D0845\n",
      "   D0844\n",
      "   D0839\n",
      "   D0814\n",
      "   D0824\n",
      "   D0821\n",
      "   D0827\n",
      "   D0846\n",
      "   D0818\n",
      "   D0834\n",
      "   D0805\n",
      "   D0817\n",
      "   D0831\n",
      "   D0815\n",
      "   D0836\n",
      "   D0806\n",
      "   D0808\n",
      "   D0837\n",
      "   D0803\n",
      "   D0830\n",
      "   D0838\n",
      "   D0840\n",
      "   D0842\n",
      "   D0832\n",
      "   D0816\n",
      "   D0801\n",
      "   D0833\n",
      "   D0811\n",
      "TAC2009\n",
      "   D0919\n",
      "   D0904\n",
      "   D0934\n",
      "   D0928\n",
      "   D0944\n",
      "   D0917\n",
      "   D0926\n",
      "   D0921\n",
      "   D0930\n",
      "   D0907\n",
      "   D0929\n",
      "   D0913\n",
      "   D0920\n",
      "   D0909\n",
      "   D0922\n",
      "   D0935\n",
      "   D0912\n",
      "   D0903\n",
      "   D0927\n",
      "   D0940\n",
      "   D0902\n",
      "   D0925\n",
      "   D0910\n",
      "   D0931\n",
      "   D0943\n",
      "   D0939\n",
      "   D0937\n",
      "   D0933\n",
      "   D0915\n",
      "   D0941\n",
      "   D0911\n",
      "   D0924\n",
      "   D0908\n",
      "   D0932\n",
      "   D0914\n",
      "   D0916\n",
      "   D0905\n",
      "   D0923\n",
      "   D0936\n",
      "   D0938\n",
      "   D0942\n",
      "   D0918\n",
      "   D0901\n",
      "   D0906\n"
     ]
    }
   ],
   "source": [
    "for dataset in DATASETS:\n",
    "    print(dataset)\n",
    "    data = load_data(IN_DATA_DIR, dataset, encoded=False)\n",
    "    for topic_id, topic in data.items():\n",
    "        print('  ', topic_id)\n",
    "        store_data(OUT_DATA_DIR, topic_id, make_topic(topic, encode_words))"
   ]
  },
  {
   "cell_type": "code",
   "execution_count": null,
   "metadata": {},
   "outputs": [],
   "source": []
  }
 ],
 "metadata": {
  "kernelspec": {
   "display_name": "Python 3",
   "language": "python",
   "name": "python3"
  },
  "language_info": {
   "codemirror_mode": {
    "name": "ipython",
    "version": 3
   },
   "file_extension": ".py",
   "mimetype": "text/x-python",
   "name": "python",
   "nbconvert_exporter": "python",
   "pygments_lexer": "ipython3",
   "version": "3.7.0"
  }
 },
 "nbformat": 4,
 "nbformat_minor": 4
}
