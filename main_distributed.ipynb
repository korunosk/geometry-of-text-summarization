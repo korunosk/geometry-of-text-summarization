{
 "cells": [
  {
   "cell_type": "code",
   "execution_count": 1,
   "metadata": {},
   "outputs": [],
   "source": [
    "import os\n",
    "import json\n",
    "import numpy as np\n",
    "from scipy.stats import kendalltau\n",
    "from scipy.spatial import ConvexHull\n",
    "from scipy.spatial.qhull import QhullError\n",
    "from scipy.spatial.distance import cdist, pdist\n",
    "from operator import itemgetter\n",
    "from itertools import chain\n",
    "from src.lexrank import degree_centrality_scores\n",
    "\n",
    "from sklearn.decomposition import PCA\n",
    "\n",
    "import matplotlib.pyplot as plt\n",
    "\n",
    "import ray\n",
    "\n",
    "from config import *"
   ]
  },
  {
   "cell_type": "code",
   "execution_count": 2,
   "metadata": {},
   "outputs": [],
   "source": [
    "DATASET = DATASETS[1]\n",
    "DATA_DIR = f'/scratch/korunosk/data/{DATASET}'"
   ]
  },
  {
   "cell_type": "code",
   "execution_count": 3,
   "metadata": {},
   "outputs": [
    {
     "name": "stderr",
     "output_type": "stream",
     "text": [
      "2020-03-03 18:13:44,877\tWARNING services.py:586 -- setpgrp failed, processes may not be cleaned up properly: [Errno 1] Operation not permitted.\n",
      "2020-03-03 18:13:44,884\tINFO resource_spec.py:212 -- Starting Ray with 34.57 GiB memory available for workers and up to 17.29 GiB for objects. You can adjust these settings with ray.init(memory=<bytes>, object_store_memory=<bytes>).\n",
      "2020-03-03 18:13:45,282\tINFO services.py:1078 -- View the Ray dashboard at \u001b[1m\u001b[32mlocalhost:8266\u001b[39m\u001b[22m\n"
     ]
    },
    {
     "data": {
      "text/plain": [
       "{'node_ip_address': '10.90.36.41',\n",
       " 'redis_address': '10.90.36.41:29620',\n",
       " 'object_store_address': '/tmp/ray/session_2020-03-03_18-13-44_876606_42571/sockets/plasma_store',\n",
       " 'raylet_socket_name': '/tmp/ray/session_2020-03-03_18-13-44_876606_42571/sockets/raylet',\n",
       " 'webui_url': 'localhost:8266',\n",
       " 'session_dir': '/tmp/ray/session_2020-03-03_18-13-44_876606_42571'}"
      ]
     },
     "execution_count": 3,
     "metadata": {},
     "output_type": "execute_result"
    }
   ],
   "source": [
    "ray.init(num_cpus=40)"
   ]
  },
  {
   "cell_type": "code",
   "execution_count": 10,
   "metadata": {},
   "outputs": [
    {
     "name": "stdout",
     "output_type": "stream",
     "text": [
      "0.12921594645067994\n"
     ]
    }
   ],
   "source": [
    "@ray.remote\n",
    "def load_and_extract(t):\n",
    "    with open(os.path.join(DATA_DIR, t + '_encoded.json'), mode='r') as fp:\n",
    "        topic = json.load(fp)\n",
    "    \n",
    "    documents = np.array(list(chain(*topic['documents'])))\n",
    "    annotations = topic['annotations']\n",
    "\n",
    "    summaries_tmp = list(map(itemgetter('text'), annotations))\n",
    "    indices_tmp = np.cumsum([0] + list(map(len, summaries_tmp)))\n",
    "    summaries = np.array(list(chain(*summaries_tmp)))\n",
    "    indices = np.array(list(zip(indices_tmp[:-1], indices_tmp[1:])))\n",
    "    \n",
    "    pyr_scores = np.array(list(map(itemgetter('pyr_score'), annotations)))\n",
    "    \n",
    "    return documents, summaries, indices, pyr_scores\n",
    "\n",
    "\n",
    "@ray.remote\n",
    "def experiment_average_pairwise_distance(data):\n",
    "    document_embs, summary_embs, indices, pyr_scores = data\n",
    "    \n",
    "    def average_pairwise_distance(summary_embs: np.array) -> float:\n",
    "        '''Calculates the average pairwise distance between summary embeddings'''\n",
    "        return np.mean(cdist(summary_embs, summary_embs, metric='euclidean'))\n",
    "    \n",
    "    metric = lambda i: average_pairwise_distance(summary_embs[i[0]:i[1]])\n",
    "    \n",
    "    return kendalltau(pyr_scores, np.array([metric(i) for i in indices]))[0]\n",
    "\n",
    "@ray.remote\n",
    "def experiment_semantic_volume(data):\n",
    "    document_embs, summary_embs, indices, pyr_scores = data\n",
    "    \n",
    "    embs = np.concatenate((document_embs, summary_embs))\n",
    "    t = document_embs.shape[0]\n",
    "    pca = PCA(n_components=2, random_state=42)\n",
    "    pts = pca.fit_transform(embs)\n",
    "    document_pts, summary_pts = pts[:t], pts[t:]\n",
    "    \n",
    "    def semantic_volume(summary_embs: np.array) -> float:\n",
    "        '''Calculates the semantic volume of the summary embeddings'''\n",
    "        try:\n",
    "            return ConvexHull(summary_embs).volume\n",
    "        except QhullError as e:\n",
    "            return 0\n",
    "    \n",
    "    metric = lambda i: semantic_volume(summary_pts[i[0]:i[1]])\n",
    "    \n",
    "    return kendalltau(pyr_scores, np.array([metric(i) for i in indices]))[0]\n",
    "\n",
    "@ray.remote\n",
    "def experiment_semantic_spread(data):\n",
    "    document_embs, summary_embs, indices, pyr_scores = data\n",
    "\n",
    "    def semantic_spread(summary_embs: np.array) -> float:\n",
    "        '''Calculates the semantic spread of the summary embeddings'''\n",
    "        return np.linalg.det(summary_embs @ summary_embs.T)\n",
    "\n",
    "    metric = lambda i: semantic_spread(summary_embs[i[0]:i[1]])\n",
    "    \n",
    "    return kendalltau(pyr_scores, np.array([metric(i) for i in indices]))[0]\n",
    "\n",
    "\n",
    "def execute_experiment(experiment):\n",
    "    data   = [ load_and_extract.remote(t) for t in TOPICS[DATASET] ]\n",
    "    scores = [ experiment.remote(d) for d in data ]\n",
    "\n",
    "    return np.array(ray.get(scores))\n",
    "\n",
    "scores = execute_experiment(experiment_semantic_spread)\n",
    "\n",
    "print(np.mean(scores))"
   ]
  },
  {
   "cell_type": "code",
   "execution_count": 11,
   "metadata": {},
   "outputs": [
    {
     "data": {
      "image/png": "[encoded data removed]",
      "text/plain": [
       "<Figure size 1440x360 with 1 Axes>"
      ]
     },
     "metadata": {
      "needs_background": "light"
     },
     "output_type": "display_data"
    }
   ],
   "source": [
    "x = np.arange(len(TOPICS[DATASET]))\n",
    "\n",
    "fig = plt.figure(figsize=(20,5))\n",
    "ax = fig.add_subplot(1,1,1)\n",
    "ax.bar(x, scores, width=0.2, label='Semantic Spread')\n",
    "ax.set_xticks(x)\n",
    "ax.set_xticklabels(TOPICS[DATASET], rotation=90)\n",
    "ax.set_title(DATASET)\n",
    "ax.set_xlabel('topic')\n",
    "ax.set_ylabel('kendalltau')\n",
    "ax.legend()\n",
    "plt.show()"
   ]
  },
  {
   "cell_type": "code",
   "execution_count": null,
   "metadata": {},
   "outputs": [],
   "source": []
  }
 ],
 "metadata": {
  "kernelspec": {
   "display_name": "Python 3",
   "language": "python",
   "name": "python3"
  },
  "language_info": {
   "codemirror_mode": {
    "name": "ipython",
    "version": 3
   },
   "file_extension": ".py",
   "mimetype": "text/x-python",
   "name": "python",
   "nbconvert_exporter": "python",
   "pygments_lexer": "ipython3",
   "version": "3.7.0"
  }
 },
 "nbformat": 4,
 "nbformat_minor": 4
}
